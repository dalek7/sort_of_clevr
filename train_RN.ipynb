{
 "cells": [
  {
   "cell_type": "code",
   "execution_count": 1,
   "metadata": {},
   "outputs": [],
   "source": [
    "import os\n",
    "#import cPickle as pickle\n",
    "import pickle\n",
    "import random\n",
    "import numpy as np\n",
    "import csv\n",
    "\n",
    "import torch\n",
    "from torch.utils.tensorboard import SummaryWriter\n",
    "from torch.autograd import Variable\n"
   ]
  },
  {
   "cell_type": "code",
   "execution_count": 2,
   "metadata": {},
   "outputs": [],
   "source": [
    "#batch_size = 16\n",
    "#cuda = True\n",
    "model_dirs = './model'"
   ]
  },
  {
   "cell_type": "code",
   "execution_count": 3,
   "metadata": {},
   "outputs": [
    {
     "name": "stderr",
     "output_type": "stream",
     "text": [
      "/usr/lib/python3/dist-packages/requests/__init__.py:89: RequestsDependencyWarning: urllib3 (1.26.8) or chardet (3.0.4) doesn't match a supported version!\n",
      "  warnings.warn(\"urllib3 ({}) or chardet ({}) doesn't match a supported \"\n"
     ]
    }
   ],
   "source": [
    "summary_writer = SummaryWriter()"
   ]
  },
  {
   "cell_type": "code",
   "execution_count": 4,
   "metadata": {},
   "outputs": [
    {
     "data": {
      "text/plain": [
       "_StoreAction(option_strings=['--relation-type'], dest='relation_type', nargs=None, const=None, default='binary', type=<class 'str'>, choices=None, help='what kind of relations to learn. options: binary, ternary (default: binary)', metavar=None)"
      ]
     },
     "execution_count": 4,
     "metadata": {},
     "output_type": "execute_result"
    }
   ],
   "source": [
    "import argparse\n",
    "# Training settings\n",
    "parser = argparse.ArgumentParser(description='PyTorch Relational-Network sort-of-CLVR Example')\n",
    "parser.add_argument('--model', type=str, choices=['RN', 'CNN_MLP'], default='RN', \n",
    "                    help='resume from model stored')\n",
    "parser.add_argument('--batch-size', type=int, default=64, metavar='N',\n",
    "                    help='input batch size for training (default: 64)')\n",
    "parser.add_argument('--epochs', type=int, default=20, metavar='N',\n",
    "                    help='number of epochs to train (default: 20)')\n",
    "parser.add_argument('--lr', type=float, default=0.0001, metavar='LR',\n",
    "                    help='learning rate (default: 0.0001)')\n",
    "parser.add_argument('--no-cuda', action='store_true', default=False,\n",
    "                    help='disables CUDA training')\n",
    "parser.add_argument('--seed', type=int, default=1, metavar='S',\n",
    "                    help='random seed (default: 1)')\n",
    "parser.add_argument('--log-interval', type=int, default=10, metavar='N',\n",
    "                    help='how many batches to wait before logging training status')\n",
    "parser.add_argument('--resume', type=str,\n",
    "                    help='resume from model stored')\n",
    "parser.add_argument('--relation-type', type=str, default='binary',\n",
    "                    help='what kind of relations to learn. options: binary, ternary (default: binary)')"
   ]
  },
  {
   "cell_type": "code",
   "execution_count": 5,
   "metadata": {},
   "outputs": [
    {
     "data": {
      "text/plain": [
       "<torch._C.Generator at 0x7fc7d6361c50>"
      ]
     },
     "execution_count": 5,
     "metadata": {},
     "output_type": "execute_result"
    }
   ],
   "source": [
    "#args = parser.parse_args()\n",
    "args, _ = parser.parse_known_args() \n",
    "args.cuda = not args.no_cuda and torch.cuda.is_available()\n",
    "torch.manual_seed(args.seed)"
   ]
  },
  {
   "cell_type": "code",
   "execution_count": 6,
   "metadata": {},
   "outputs": [],
   "source": [
    "args.model='CNN_MLP' #'RN' #"
   ]
  },
  {
   "cell_type": "code",
   "execution_count": 7,
   "metadata": {},
   "outputs": [
    {
     "name": "stdout",
     "output_type": "stream",
     "text": [
      "True\n"
     ]
    }
   ],
   "source": [
    "print(args.cuda)\n",
    "if args.cuda:\n",
    "    torch.cuda.manual_seed(args.seed)"
   ]
  },
  {
   "cell_type": "code",
   "execution_count": 8,
   "metadata": {},
   "outputs": [
    {
     "name": "stdout",
     "output_type": "stream",
     "text": [
      "64\n"
     ]
    }
   ],
   "source": [
    "bs = args.batch_size\n",
    "print(bs)"
   ]
  },
  {
   "cell_type": "code",
   "execution_count": 9,
   "metadata": {},
   "outputs": [],
   "source": [
    "input_img = torch.FloatTensor(bs, 3, 75, 75)\n",
    "input_qst = torch.FloatTensor(bs, 18)\n",
    "label = torch.LongTensor(bs)"
   ]
  },
  {
   "cell_type": "code",
   "execution_count": null,
   "metadata": {},
   "outputs": [],
   "source": []
  },
  {
   "cell_type": "code",
   "execution_count": 10,
   "metadata": {},
   "outputs": [],
   "source": [
    "input_img = Variable(input_img)\n",
    "input_qst = Variable(input_qst)\n",
    "label = Variable(label)"
   ]
  },
  {
   "cell_type": "code",
   "execution_count": 11,
   "metadata": {},
   "outputs": [],
   "source": [
    "#!wget https://raw.githubusercontent.com/kimhc6028/relational-networks/master/model.py"
   ]
  },
  {
   "cell_type": "code",
   "execution_count": 12,
   "metadata": {},
   "outputs": [],
   "source": [
    "from model import RN, CNN_MLP"
   ]
  },
  {
   "cell_type": "code",
   "execution_count": 13,
   "metadata": {},
   "outputs": [
    {
     "name": "stdout",
     "output_type": "stream",
     "text": [
      "CNN_MLP\n"
     ]
    }
   ],
   "source": [
    "print(args.model)\n",
    "if args.model =='CNN_MLP': \n",
    "    model = CNN_MLP(args)\n",
    "else:\n",
    "    model = RN(args)"
   ]
  },
  {
   "cell_type": "code",
   "execution_count": 14,
   "metadata": {},
   "outputs": [
    {
     "data": {
      "text/plain": [
       "CNN_MLP(\n",
       "  (conv): ConvInputModel(\n",
       "    (conv1): Conv2d(3, 24, kernel_size=(3, 3), stride=(2, 2), padding=(1, 1))\n",
       "    (batchNorm1): BatchNorm2d(24, eps=1e-05, momentum=0.1, affine=True, track_running_stats=True)\n",
       "    (conv2): Conv2d(24, 24, kernel_size=(3, 3), stride=(2, 2), padding=(1, 1))\n",
       "    (batchNorm2): BatchNorm2d(24, eps=1e-05, momentum=0.1, affine=True, track_running_stats=True)\n",
       "    (conv3): Conv2d(24, 24, kernel_size=(3, 3), stride=(2, 2), padding=(1, 1))\n",
       "    (batchNorm3): BatchNorm2d(24, eps=1e-05, momentum=0.1, affine=True, track_running_stats=True)\n",
       "    (conv4): Conv2d(24, 24, kernel_size=(3, 3), stride=(2, 2), padding=(1, 1))\n",
       "    (batchNorm4): BatchNorm2d(24, eps=1e-05, momentum=0.1, affine=True, track_running_stats=True)\n",
       "  )\n",
       "  (fc1): Linear(in_features=618, out_features=256, bias=True)\n",
       "  (fcout): FCOutputModel(\n",
       "    (fc2): Linear(in_features=256, out_features=256, bias=True)\n",
       "    (fc3): Linear(in_features=256, out_features=10, bias=True)\n",
       "  )\n",
       ")"
      ]
     },
     "execution_count": 14,
     "metadata": {},
     "output_type": "execute_result"
    }
   ],
   "source": [
    "model"
   ]
  },
  {
   "cell_type": "code",
   "execution_count": 15,
   "metadata": {},
   "outputs": [],
   "source": [
    "if args.cuda:\n",
    "    model.cuda()\n",
    "    input_img = input_img.cuda()\n",
    "    input_qst = input_qst.cuda()\n",
    "    label = label.cuda()"
   ]
  },
  {
   "cell_type": "code",
   "execution_count": 16,
   "metadata": {},
   "outputs": [],
   "source": [
    "def tensor_data(data, i):\n",
    "    img = torch.from_numpy(np.asarray(data[0][bs*i:bs*(i+1)]))\n",
    "    qst = torch.from_numpy(np.asarray(data[1][bs*i:bs*(i+1)]))\n",
    "    ans = torch.from_numpy(np.asarray(data[2][bs*i:bs*(i+1)]))\n",
    "\n",
    "    input_img.data.resize_(img.size()).copy_(img)\n",
    "    input_qst.data.resize_(qst.size()).copy_(qst)\n",
    "    label.data.resize_(ans.size()).copy_(ans)"
   ]
  },
  {
   "cell_type": "code",
   "execution_count": 17,
   "metadata": {},
   "outputs": [],
   "source": [
    "def cvt_data_axis(data):\n",
    "    img = [e[0] for e in data]\n",
    "    qst = [e[1] for e in data]\n",
    "    ans = [e[2] for e in data]\n",
    "    return (img,qst,ans)\n"
   ]
  },
  {
   "cell_type": "code",
   "execution_count": 18,
   "metadata": {},
   "outputs": [],
   "source": [
    "def train(epoch, ternary, rel, norel):\n",
    "    model.train()\n",
    "\n",
    "    if not len(rel[0]) == len(norel[0]):\n",
    "        print('Not equal length for relation dataset and non-relation dataset.')\n",
    "        return\n",
    "    \n",
    "    random.shuffle(ternary)\n",
    "    random.shuffle(rel)\n",
    "    random.shuffle(norel)\n",
    "\n",
    "    ternary = cvt_data_axis(ternary)\n",
    "    rel = cvt_data_axis(rel)\n",
    "    norel = cvt_data_axis(norel)\n",
    "\n",
    "    acc_ternary = []\n",
    "    acc_rels = []\n",
    "    acc_norels = []\n",
    "\n",
    "    l_ternary = []\n",
    "    l_binary = []\n",
    "    l_unary = []\n",
    "\n",
    "    for batch_idx in range(len(rel[0]) // bs):\n",
    "        tensor_data(ternary, batch_idx)\n",
    "        accuracy_ternary, loss_ternary = model.train_(input_img, input_qst, label)\n",
    "        acc_ternary.append(accuracy_ternary.item())\n",
    "        l_ternary.append(loss_ternary.item())\n",
    "\n",
    "        tensor_data(rel, batch_idx)\n",
    "        accuracy_rel, loss_binary = model.train_(input_img, input_qst, label)\n",
    "        acc_rels.append(accuracy_rel.item())\n",
    "        l_binary.append(loss_binary.item())\n",
    "\n",
    "        tensor_data(norel, batch_idx)\n",
    "        accuracy_norel, loss_unary = model.train_(input_img, input_qst, label)\n",
    "        acc_norels.append(accuracy_norel.item())\n",
    "        l_unary.append(loss_unary.item())\n",
    "\n",
    "        if batch_idx % args.log_interval == 0:\n",
    "            print('Train Epoch: {} [{}/{} ({:.0f}%)] '\n",
    "                  'Ternary acc: {:.0f}% | Relations acc: {:.0f}% | Non-relations acc: {:.0f}%'.format(\n",
    "                   epoch,\n",
    "                   batch_idx * bs * 2,\n",
    "                   len(rel[0]) * 2,\n",
    "                   100. * batch_idx * bs / len(rel[0]),\n",
    "                   accuracy_ternary,\n",
    "                   accuracy_rel,\n",
    "                   accuracy_norel))\n",
    "        \n",
    "    avg_acc_ternary = sum(acc_ternary) / len(acc_ternary)\n",
    "    avg_acc_binary = sum(acc_rels) / len(acc_rels)\n",
    "    avg_acc_unary = sum(acc_norels) / len(acc_norels)\n",
    "\n",
    "    summary_writer.add_scalars('Accuracy/train', {\n",
    "        'ternary': avg_acc_ternary,\n",
    "        'binary': avg_acc_binary,\n",
    "        'unary': avg_acc_unary\n",
    "    }, epoch)\n",
    "\n",
    "    avg_loss_ternary = sum(l_ternary) / len(l_ternary)\n",
    "    avg_loss_binary = sum(l_binary) / len(l_binary)\n",
    "    avg_loss_unary = sum(l_unary) / len(l_unary)\n",
    "\n",
    "    summary_writer.add_scalars('Loss/train', {\n",
    "        'ternary': avg_loss_ternary,\n",
    "        'binary': avg_loss_binary,\n",
    "        'unary': avg_loss_unary\n",
    "    }, epoch)\n",
    "\n",
    "    # return average accuracy\n",
    "    return avg_acc_ternary, avg_acc_binary, avg_acc_unary, avg_loss_ternary, avg_loss_binary, avg_loss_unary"
   ]
  },
  {
   "cell_type": "code",
   "execution_count": 19,
   "metadata": {},
   "outputs": [],
   "source": [
    "def test(epoch, ternary, rel, norel):\n",
    "    model.eval()\n",
    "    if not len(rel[0]) == len(norel[0]):\n",
    "        print('Not equal length for relation dataset and non-relation dataset.')\n",
    "        return\n",
    "    \n",
    "    ternary = cvt_data_axis(ternary)\n",
    "    rel = cvt_data_axis(rel)\n",
    "    norel = cvt_data_axis(norel)\n",
    "\n",
    "    accuracy_ternary = []\n",
    "    accuracy_rels = []\n",
    "    accuracy_norels = []\n",
    "\n",
    "    loss_ternary = []\n",
    "    loss_binary = []\n",
    "    loss_unary = []\n",
    "\n",
    "    for batch_idx in range(len(rel[0]) // bs):\n",
    "        tensor_data(ternary, batch_idx)\n",
    "        acc_ter, l_ter = model.test_(input_img, input_qst, label)\n",
    "        accuracy_ternary.append(acc_ter.item())\n",
    "        loss_ternary.append(l_ter.item())\n",
    "\n",
    "        tensor_data(rel, batch_idx)\n",
    "        acc_bin, l_bin = model.test_(input_img, input_qst, label)\n",
    "        accuracy_rels.append(acc_bin.item())\n",
    "        loss_binary.append(l_bin.item())\n",
    "\n",
    "        tensor_data(norel, batch_idx)\n",
    "        acc_un, l_un = model.test_(input_img, input_qst, label)\n",
    "        accuracy_norels.append(acc_un.item())\n",
    "        loss_unary.append(l_un.item())\n",
    "\n",
    "    accuracy_ternary = sum(accuracy_ternary) / len(accuracy_ternary)\n",
    "    accuracy_rel = sum(accuracy_rels) / len(accuracy_rels)\n",
    "    accuracy_norel = sum(accuracy_norels) / len(accuracy_norels)\n",
    "    print('\\n Test set: Ternary accuracy: {:.0f}% Binary accuracy: {:.0f}% | Unary accuracy: {:.0f}%\\n'.format(\n",
    "        accuracy_ternary, accuracy_rel, accuracy_norel))\n",
    "\n",
    "    summary_writer.add_scalars('Accuracy/test', {\n",
    "        'ternary': accuracy_ternary,\n",
    "        'binary': accuracy_rel,\n",
    "        'unary': accuracy_norel\n",
    "    }, epoch)\n",
    "\n",
    "    loss_ternary = sum(loss_ternary) / len(loss_ternary)\n",
    "    loss_binary = sum(loss_binary) / len(loss_binary)\n",
    "    loss_unary = sum(loss_unary) / len(loss_unary)\n",
    "\n",
    "    summary_writer.add_scalars('Loss/test', {\n",
    "        'ternary': loss_ternary,\n",
    "        'binary': loss_binary,\n",
    "        'unary': loss_unary\n",
    "    }, epoch)\n",
    "\n",
    "    return accuracy_ternary, accuracy_rel, accuracy_norel\n"
   ]
  },
  {
   "cell_type": "markdown",
   "metadata": {},
   "source": [
    "### Loading the data"
   ]
  },
  {
   "cell_type": "code",
   "execution_count": 20,
   "metadata": {},
   "outputs": [],
   "source": [
    "def load_data():\n",
    "    print('loading data...')\n",
    "    dirs = './data'\n",
    "    filename = os.path.join(dirs,'sort-of-clevr.pickle')\n",
    "    with open(filename, 'rb') as f:\n",
    "      train_datasets, test_datasets = pickle.load(f)\n",
    "    ternary_train = []\n",
    "    ternary_test = []\n",
    "    rel_train = []\n",
    "    rel_test = []\n",
    "    norel_train = []\n",
    "    norel_test = []\n",
    "    print('processing data...')\n",
    "\n",
    "    for img, ternary, relations, norelations in train_datasets:\n",
    "        img = np.swapaxes(img, 0, 2)\n",
    "        for qst, ans in zip(ternary[0], ternary[1]):\n",
    "            ternary_train.append((img,qst,ans))\n",
    "        for qst,ans in zip(relations[0], relations[1]):\n",
    "            rel_train.append((img,qst,ans))\n",
    "        for qst,ans in zip(norelations[0], norelations[1]):\n",
    "            norel_train.append((img,qst,ans))\n",
    "\n",
    "    for img, ternary, relations, norelations in test_datasets:\n",
    "        img = np.swapaxes(img, 0, 2)\n",
    "        for qst, ans in zip(ternary[0], ternary[1]):\n",
    "            ternary_test.append((img, qst, ans))\n",
    "        for qst,ans in zip(relations[0], relations[1]):\n",
    "            rel_test.append((img,qst,ans))\n",
    "        for qst,ans in zip(norelations[0], norelations[1]):\n",
    "            norel_test.append((img,qst,ans))\n",
    "            \n",
    "    print('Done !')\n",
    "    return (ternary_train, ternary_test, rel_train, rel_test, norel_train, norel_test)"
   ]
  },
  {
   "cell_type": "code",
   "execution_count": 21,
   "metadata": {},
   "outputs": [
    {
     "name": "stdout",
     "output_type": "stream",
     "text": [
      "loading data...\n",
      "processing data...\n",
      "Done !\n"
     ]
    }
   ],
   "source": [
    "ternary_train, ternary_test, rel_train, rel_test, norel_train, norel_test = load_data()"
   ]
  },
  {
   "cell_type": "code",
   "execution_count": 22,
   "metadata": {},
   "outputs": [
    {
     "name": "stderr",
     "output_type": "stream",
     "text": [
      "/usr/local/lib/python3.8/dist-packages/numpy/core/_asarray.py:83: VisibleDeprecationWarning: Creating an ndarray from ragged nested sequences (which is a list-or-tuple of lists-or-tuples-or ndarrays with different lengths or shapes) is deprecated. If you meant to do this, you must specify 'dtype=object' when creating the ndarray\n",
      "  return array(a, dtype, copy=False, order=order)\n"
     ]
    },
    {
     "data": {
      "text/plain": [
       "((9800, 3), (9800, 3))"
      ]
     },
     "execution_count": 22,
     "metadata": {},
     "output_type": "execute_result"
    }
   ],
   "source": [
    "np.shape(ternary_train), np.shape(rel_train)"
   ]
  },
  {
   "cell_type": "code",
   "execution_count": 23,
   "metadata": {},
   "outputs": [
    {
     "name": "stdout",
     "output_type": "stream",
     "text": [
      "directory ./model already exists\n"
     ]
    }
   ],
   "source": [
    "try:\n",
    "    os.makedirs(model_dirs)\n",
    "except:\n",
    "    print('directory {} already exists'.format(model_dirs))\n"
   ]
  },
  {
   "cell_type": "code",
   "execution_count": 24,
   "metadata": {},
   "outputs": [],
   "source": [
    "if args.resume:\n",
    "    filename = os.path.join(model_dirs, args.resume)\n",
    "    print(filename)\n",
    "    if os.path.isfile(filename):\n",
    "        print('==> loading checkpoint {}'.format(filename))\n",
    "        checkpoint = torch.load(filename)\n",
    "        model.load_state_dict(checkpoint)\n",
    "        print('==> loaded checkpoint {}'.format(filename))"
   ]
  },
  {
   "cell_type": "code",
   "execution_count": 25,
   "metadata": {},
   "outputs": [
    {
     "name": "stdout",
     "output_type": "stream",
     "text": [
      "./CNN_MLP_1_log.csv\n"
     ]
    }
   ],
   "source": [
    "fn_log = f'./{args.model}_{args.seed}_log.csv'\n",
    "print(fn_log)"
   ]
  },
  {
   "cell_type": "code",
   "execution_count": null,
   "metadata": {},
   "outputs": [],
   "source": []
  },
  {
   "cell_type": "code",
   "execution_count": 26,
   "metadata": {},
   "outputs": [
    {
     "name": "stdout",
     "output_type": "stream",
     "text": [
      "Training CNN_MLP {} model...\n",
      "Train Epoch: 1 [0/19600 (0%)] Ternary acc: 2% | Relations acc: 5% | Non-relations acc: 5%\n",
      "Train Epoch: 1 [1280/19600 (7%)] Ternary acc: 5% | Relations acc: 11% | Non-relations acc: 31%\n",
      "Train Epoch: 1 [2560/19600 (13%)] Ternary acc: 9% | Relations acc: 14% | Non-relations acc: 14%\n",
      "Train Epoch: 1 [3840/19600 (20%)] Ternary acc: 6% | Relations acc: 25% | Non-relations acc: 28%\n",
      "Train Epoch: 1 [5120/19600 (26%)] Ternary acc: 14% | Relations acc: 16% | Non-relations acc: 22%\n",
      "Train Epoch: 1 [6400/19600 (33%)] Ternary acc: 8% | Relations acc: 22% | Non-relations acc: 27%\n",
      "Train Epoch: 1 [7680/19600 (39%)] Ternary acc: 8% | Relations acc: 30% | Non-relations acc: 20%\n",
      "Train Epoch: 1 [8960/19600 (46%)] Ternary acc: 8% | Relations acc: 23% | Non-relations acc: 27%\n",
      "Train Epoch: 1 [10240/19600 (52%)] Ternary acc: 9% | Relations acc: 27% | Non-relations acc: 33%\n",
      "Train Epoch: 1 [11520/19600 (59%)] Ternary acc: 0% | Relations acc: 27% | Non-relations acc: 22%\n",
      "Train Epoch: 1 [12800/19600 (65%)] Ternary acc: 11% | Relations acc: 23% | Non-relations acc: 31%\n",
      "Train Epoch: 1 [14080/19600 (72%)] Ternary acc: 5% | Relations acc: 14% | Non-relations acc: 31%\n",
      "Train Epoch: 1 [15360/19600 (78%)] Ternary acc: 16% | Relations acc: 20% | Non-relations acc: 36%\n",
      "Train Epoch: 1 [16640/19600 (85%)] Ternary acc: 17% | Relations acc: 19% | Non-relations acc: 30%\n",
      "Train Epoch: 1 [17920/19600 (91%)] Ternary acc: 20% | Relations acc: 30% | Non-relations acc: 25%\n",
      "Train Epoch: 1 [19200/19600 (98%)] Ternary acc: 9% | Relations acc: 28% | Non-relations acc: 38%\n",
      "\n",
      " Test set: Ternary accuracy: 9% Binary accuracy: 23% | Unary accuracy: 25%\n",
      "\n",
      "Train Epoch: 2 [0/19600 (0%)] Ternary acc: 11% | Relations acc: 33% | Non-relations acc: 27%\n",
      "Train Epoch: 2 [1280/19600 (7%)] Ternary acc: 22% | Relations acc: 17% | Non-relations acc: 41%\n",
      "Train Epoch: 2 [2560/19600 (13%)] Ternary acc: 17% | Relations acc: 31% | Non-relations acc: 41%\n",
      "Train Epoch: 2 [3840/19600 (20%)] Ternary acc: 6% | Relations acc: 28% | Non-relations acc: 36%\n",
      "Train Epoch: 2 [5120/19600 (26%)] Ternary acc: 16% | Relations acc: 25% | Non-relations acc: 39%\n",
      "Train Epoch: 2 [6400/19600 (33%)] Ternary acc: 6% | Relations acc: 23% | Non-relations acc: 45%\n",
      "Train Epoch: 2 [7680/19600 (39%)] Ternary acc: 9% | Relations acc: 30% | Non-relations acc: 42%\n",
      "Train Epoch: 2 [8960/19600 (46%)] Ternary acc: 17% | Relations acc: 27% | Non-relations acc: 53%\n",
      "Train Epoch: 2 [10240/19600 (52%)] Ternary acc: 17% | Relations acc: 30% | Non-relations acc: 45%\n",
      "Train Epoch: 2 [11520/19600 (59%)] Ternary acc: 23% | Relations acc: 27% | Non-relations acc: 44%\n",
      "Train Epoch: 2 [12800/19600 (65%)] Ternary acc: 17% | Relations acc: 39% | Non-relations acc: 45%\n",
      "Train Epoch: 2 [14080/19600 (72%)] Ternary acc: 19% | Relations acc: 33% | Non-relations acc: 53%\n",
      "Train Epoch: 2 [15360/19600 (78%)] Ternary acc: 23% | Relations acc: 28% | Non-relations acc: 52%\n",
      "Train Epoch: 2 [16640/19600 (85%)] Ternary acc: 17% | Relations acc: 41% | Non-relations acc: 50%\n",
      "Train Epoch: 2 [17920/19600 (91%)] Ternary acc: 19% | Relations acc: 33% | Non-relations acc: 47%\n",
      "Train Epoch: 2 [19200/19600 (98%)] Ternary acc: 28% | Relations acc: 45% | Non-relations acc: 59%\n",
      "\n",
      " Test set: Ternary accuracy: 18% Binary accuracy: 30% | Unary accuracy: 42%\n",
      "\n",
      "Train Epoch: 3 [0/19600 (0%)] Ternary acc: 16% | Relations acc: 42% | Non-relations acc: 52%\n",
      "Train Epoch: 3 [1280/19600 (7%)] Ternary acc: 17% | Relations acc: 42% | Non-relations acc: 41%\n",
      "Train Epoch: 3 [2560/19600 (13%)] Ternary acc: 39% | Relations acc: 44% | Non-relations acc: 64%\n",
      "Train Epoch: 3 [3840/19600 (20%)] Ternary acc: 31% | Relations acc: 48% | Non-relations acc: 47%\n",
      "Train Epoch: 3 [5120/19600 (26%)] Ternary acc: 28% | Relations acc: 41% | Non-relations acc: 56%\n",
      "Train Epoch: 3 [6400/19600 (33%)] Ternary acc: 39% | Relations acc: 50% | Non-relations acc: 52%\n",
      "Train Epoch: 3 [7680/19600 (39%)] Ternary acc: 33% | Relations acc: 38% | Non-relations acc: 48%\n",
      "Train Epoch: 3 [8960/19600 (46%)] Ternary acc: 50% | Relations acc: 41% | Non-relations acc: 56%\n",
      "Train Epoch: 3 [10240/19600 (52%)] Ternary acc: 39% | Relations acc: 38% | Non-relations acc: 62%\n",
      "Train Epoch: 3 [11520/19600 (59%)] Ternary acc: 38% | Relations acc: 39% | Non-relations acc: 61%\n",
      "Train Epoch: 3 [12800/19600 (65%)] Ternary acc: 47% | Relations acc: 47% | Non-relations acc: 55%\n",
      "Train Epoch: 3 [14080/19600 (72%)] Ternary acc: 48% | Relations acc: 44% | Non-relations acc: 58%\n",
      "Train Epoch: 3 [15360/19600 (78%)] Ternary acc: 56% | Relations acc: 41% | Non-relations acc: 66%\n",
      "Train Epoch: 3 [16640/19600 (85%)] Ternary acc: 67% | Relations acc: 50% | Non-relations acc: 69%\n",
      "Train Epoch: 3 [17920/19600 (91%)] Ternary acc: 52% | Relations acc: 52% | Non-relations acc: 55%\n",
      "Train Epoch: 3 [19200/19600 (98%)] Ternary acc: 47% | Relations acc: 42% | Non-relations acc: 59%\n",
      "\n",
      " Test set: Ternary accuracy: 53% Binary accuracy: 44% | Unary accuracy: 52%\n",
      "\n",
      "Train Epoch: 4 [0/19600 (0%)] Ternary acc: 41% | Relations acc: 55% | Non-relations acc: 55%\n",
      "Train Epoch: 4 [1280/19600 (7%)] Ternary acc: 47% | Relations acc: 56% | Non-relations acc: 55%\n",
      "Train Epoch: 4 [2560/19600 (13%)] Ternary acc: 52% | Relations acc: 53% | Non-relations acc: 69%\n",
      "Train Epoch: 4 [3840/19600 (20%)] Ternary acc: 59% | Relations acc: 52% | Non-relations acc: 55%\n",
      "Train Epoch: 4 [5120/19600 (26%)] Ternary acc: 53% | Relations acc: 48% | Non-relations acc: 48%\n",
      "Train Epoch: 4 [6400/19600 (33%)] Ternary acc: 44% | Relations acc: 50% | Non-relations acc: 53%\n",
      "Train Epoch: 4 [7680/19600 (39%)] Ternary acc: 50% | Relations acc: 61% | Non-relations acc: 50%\n",
      "Train Epoch: 4 [8960/19600 (46%)] Ternary acc: 55% | Relations acc: 52% | Non-relations acc: 55%\n",
      "Train Epoch: 4 [10240/19600 (52%)] Ternary acc: 42% | Relations acc: 52% | Non-relations acc: 70%\n",
      "Train Epoch: 4 [11520/19600 (59%)] Ternary acc: 53% | Relations acc: 53% | Non-relations acc: 55%\n",
      "Train Epoch: 4 [12800/19600 (65%)] Ternary acc: 50% | Relations acc: 55% | Non-relations acc: 62%\n",
      "Train Epoch: 4 [14080/19600 (72%)] Ternary acc: 47% | Relations acc: 50% | Non-relations acc: 58%\n",
      "Train Epoch: 4 [15360/19600 (78%)] Ternary acc: 50% | Relations acc: 47% | Non-relations acc: 48%\n",
      "Train Epoch: 4 [16640/19600 (85%)] Ternary acc: 61% | Relations acc: 41% | Non-relations acc: 55%\n",
      "Train Epoch: 4 [17920/19600 (91%)] Ternary acc: 61% | Relations acc: 61% | Non-relations acc: 56%\n",
      "Train Epoch: 4 [19200/19600 (98%)] Ternary acc: 48% | Relations acc: 66% | Non-relations acc: 61%\n",
      "\n",
      " Test set: Ternary accuracy: 48% Binary accuracy: 52% | Unary accuracy: 52%\n",
      "\n",
      "Train Epoch: 5 [0/19600 (0%)] Ternary acc: 55% | Relations acc: 58% | Non-relations acc: 52%\n",
      "Train Epoch: 5 [1280/19600 (7%)] Ternary acc: 53% | Relations acc: 50% | Non-relations acc: 66%\n",
      "Train Epoch: 5 [2560/19600 (13%)] Ternary acc: 55% | Relations acc: 61% | Non-relations acc: 70%\n",
      "Train Epoch: 5 [3840/19600 (20%)] Ternary acc: 56% | Relations acc: 42% | Non-relations acc: 62%\n",
      "Train Epoch: 5 [5120/19600 (26%)] Ternary acc: 55% | Relations acc: 53% | Non-relations acc: 55%\n",
      "Train Epoch: 5 [6400/19600 (33%)] Ternary acc: 56% | Relations acc: 69% | Non-relations acc: 48%\n",
      "Train Epoch: 5 [7680/19600 (39%)] Ternary acc: 59% | Relations acc: 58% | Non-relations acc: 53%\n",
      "Train Epoch: 5 [8960/19600 (46%)] Ternary acc: 48% | Relations acc: 50% | Non-relations acc: 55%\n",
      "Train Epoch: 5 [10240/19600 (52%)] Ternary acc: 58% | Relations acc: 62% | Non-relations acc: 50%\n",
      "Train Epoch: 5 [11520/19600 (59%)] Ternary acc: 56% | Relations acc: 58% | Non-relations acc: 58%\n",
      "Train Epoch: 5 [12800/19600 (65%)] Ternary acc: 52% | Relations acc: 45% | Non-relations acc: 56%\n",
      "Train Epoch: 5 [14080/19600 (72%)] Ternary acc: 73% | Relations acc: 64% | Non-relations acc: 64%\n",
      "Train Epoch: 5 [15360/19600 (78%)] Ternary acc: 56% | Relations acc: 55% | Non-relations acc: 50%\n",
      "Train Epoch: 5 [16640/19600 (85%)] Ternary acc: 62% | Relations acc: 66% | Non-relations acc: 64%\n",
      "Train Epoch: 5 [17920/19600 (91%)] Ternary acc: 52% | Relations acc: 52% | Non-relations acc: 48%\n",
      "Train Epoch: 5 [19200/19600 (98%)] Ternary acc: 58% | Relations acc: 48% | Non-relations acc: 53%\n",
      "\n",
      " Test set: Ternary accuracy: 47% Binary accuracy: 41% | Unary accuracy: 45%\n",
      "\n",
      "Train Epoch: 6 [0/19600 (0%)] Ternary acc: 62% | Relations acc: 62% | Non-relations acc: 55%\n"
     ]
    },
    {
     "name": "stdout",
     "output_type": "stream",
     "text": [
      "Train Epoch: 6 [1280/19600 (7%)] Ternary acc: 58% | Relations acc: 61% | Non-relations acc: 62%\n",
      "Train Epoch: 6 [2560/19600 (13%)] Ternary acc: 61% | Relations acc: 64% | Non-relations acc: 64%\n",
      "Train Epoch: 6 [3840/19600 (20%)] Ternary acc: 44% | Relations acc: 56% | Non-relations acc: 53%\n",
      "Train Epoch: 6 [5120/19600 (26%)] Ternary acc: 52% | Relations acc: 67% | Non-relations acc: 61%\n",
      "Train Epoch: 6 [6400/19600 (33%)] Ternary acc: 53% | Relations acc: 52% | Non-relations acc: 66%\n",
      "Train Epoch: 6 [7680/19600 (39%)] Ternary acc: 62% | Relations acc: 66% | Non-relations acc: 62%\n",
      "Train Epoch: 6 [8960/19600 (46%)] Ternary acc: 45% | Relations acc: 69% | Non-relations acc: 55%\n",
      "Train Epoch: 6 [10240/19600 (52%)] Ternary acc: 56% | Relations acc: 55% | Non-relations acc: 69%\n",
      "Train Epoch: 6 [11520/19600 (59%)] Ternary acc: 64% | Relations acc: 61% | Non-relations acc: 59%\n",
      "Train Epoch: 6 [12800/19600 (65%)] Ternary acc: 59% | Relations acc: 66% | Non-relations acc: 48%\n",
      "Train Epoch: 6 [14080/19600 (72%)] Ternary acc: 52% | Relations acc: 64% | Non-relations acc: 61%\n",
      "Train Epoch: 6 [15360/19600 (78%)] Ternary acc: 59% | Relations acc: 52% | Non-relations acc: 62%\n",
      "Train Epoch: 6 [16640/19600 (85%)] Ternary acc: 50% | Relations acc: 53% | Non-relations acc: 56%\n",
      "Train Epoch: 6 [17920/19600 (91%)] Ternary acc: 45% | Relations acc: 52% | Non-relations acc: 66%\n",
      "Train Epoch: 6 [19200/19600 (98%)] Ternary acc: 59% | Relations acc: 61% | Non-relations acc: 61%\n",
      "\n",
      " Test set: Ternary accuracy: 46% Binary accuracy: 49% | Unary accuracy: 52%\n",
      "\n",
      "Train Epoch: 7 [0/19600 (0%)] Ternary acc: 56% | Relations acc: 52% | Non-relations acc: 55%\n",
      "Train Epoch: 7 [1280/19600 (7%)] Ternary acc: 61% | Relations acc: 61% | Non-relations acc: 56%\n",
      "Train Epoch: 7 [2560/19600 (13%)] Ternary acc: 50% | Relations acc: 53% | Non-relations acc: 59%\n",
      "Train Epoch: 7 [3840/19600 (20%)] Ternary acc: 44% | Relations acc: 64% | Non-relations acc: 64%\n",
      "Train Epoch: 7 [5120/19600 (26%)] Ternary acc: 45% | Relations acc: 62% | Non-relations acc: 64%\n",
      "Train Epoch: 7 [6400/19600 (33%)] Ternary acc: 53% | Relations acc: 58% | Non-relations acc: 59%\n",
      "Train Epoch: 7 [7680/19600 (39%)] Ternary acc: 56% | Relations acc: 58% | Non-relations acc: 64%\n",
      "Train Epoch: 7 [8960/19600 (46%)] Ternary acc: 52% | Relations acc: 61% | Non-relations acc: 58%\n",
      "Train Epoch: 7 [10240/19600 (52%)] Ternary acc: 44% | Relations acc: 61% | Non-relations acc: 50%\n",
      "Train Epoch: 7 [11520/19600 (59%)] Ternary acc: 59% | Relations acc: 66% | Non-relations acc: 62%\n",
      "Train Epoch: 7 [12800/19600 (65%)] Ternary acc: 58% | Relations acc: 70% | Non-relations acc: 50%\n",
      "Train Epoch: 7 [14080/19600 (72%)] Ternary acc: 53% | Relations acc: 58% | Non-relations acc: 59%\n",
      "Train Epoch: 7 [15360/19600 (78%)] Ternary acc: 48% | Relations acc: 52% | Non-relations acc: 62%\n",
      "Train Epoch: 7 [16640/19600 (85%)] Ternary acc: 52% | Relations acc: 64% | Non-relations acc: 56%\n",
      "Train Epoch: 7 [17920/19600 (91%)] Ternary acc: 62% | Relations acc: 56% | Non-relations acc: 50%\n",
      "Train Epoch: 7 [19200/19600 (98%)] Ternary acc: 58% | Relations acc: 77% | Non-relations acc: 61%\n",
      "\n",
      " Test set: Ternary accuracy: 47% Binary accuracy: 48% | Unary accuracy: 52%\n",
      "\n",
      "Train Epoch: 8 [0/19600 (0%)] Ternary acc: 50% | Relations acc: 56% | Non-relations acc: 67%\n",
      "Train Epoch: 8 [1280/19600 (7%)] Ternary acc: 50% | Relations acc: 66% | Non-relations acc: 66%\n",
      "Train Epoch: 8 [2560/19600 (13%)] Ternary acc: 66% | Relations acc: 75% | Non-relations acc: 62%\n",
      "Train Epoch: 8 [3840/19600 (20%)] Ternary acc: 47% | Relations acc: 73% | Non-relations acc: 67%\n",
      "Train Epoch: 8 [5120/19600 (26%)] Ternary acc: 58% | Relations acc: 64% | Non-relations acc: 59%\n",
      "Train Epoch: 8 [6400/19600 (33%)] Ternary acc: 56% | Relations acc: 58% | Non-relations acc: 70%\n",
      "Train Epoch: 8 [7680/19600 (39%)] Ternary acc: 59% | Relations acc: 66% | Non-relations acc: 58%\n",
      "Train Epoch: 8 [8960/19600 (46%)] Ternary acc: 45% | Relations acc: 64% | Non-relations acc: 55%\n",
      "Train Epoch: 8 [10240/19600 (52%)] Ternary acc: 64% | Relations acc: 72% | Non-relations acc: 66%\n",
      "Train Epoch: 8 [11520/19600 (59%)] Ternary acc: 38% | Relations acc: 62% | Non-relations acc: 50%\n",
      "Train Epoch: 8 [12800/19600 (65%)] Ternary acc: 38% | Relations acc: 67% | Non-relations acc: 58%\n",
      "Train Epoch: 8 [14080/19600 (72%)] Ternary acc: 61% | Relations acc: 61% | Non-relations acc: 61%\n",
      "Train Epoch: 8 [15360/19600 (78%)] Ternary acc: 56% | Relations acc: 62% | Non-relations acc: 53%\n",
      "Train Epoch: 8 [16640/19600 (85%)] Ternary acc: 53% | Relations acc: 61% | Non-relations acc: 61%\n",
      "Train Epoch: 8 [17920/19600 (91%)] Ternary acc: 58% | Relations acc: 59% | Non-relations acc: 69%\n",
      "Train Epoch: 8 [19200/19600 (98%)] Ternary acc: 53% | Relations acc: 73% | Non-relations acc: 61%\n",
      "\n",
      " Test set: Ternary accuracy: 47% Binary accuracy: 53% | Unary accuracy: 49%\n",
      "\n",
      "Train Epoch: 9 [0/19600 (0%)] Ternary acc: 52% | Relations acc: 59% | Non-relations acc: 61%\n",
      "Train Epoch: 9 [1280/19600 (7%)] Ternary acc: 52% | Relations acc: 64% | Non-relations acc: 66%\n",
      "Train Epoch: 9 [2560/19600 (13%)] Ternary acc: 67% | Relations acc: 62% | Non-relations acc: 61%\n",
      "Train Epoch: 9 [3840/19600 (20%)] Ternary acc: 58% | Relations acc: 59% | Non-relations acc: 62%\n",
      "Train Epoch: 9 [5120/19600 (26%)] Ternary acc: 50% | Relations acc: 77% | Non-relations acc: 62%\n",
      "Train Epoch: 9 [6400/19600 (33%)] Ternary acc: 55% | Relations acc: 72% | Non-relations acc: 61%\n",
      "Train Epoch: 9 [7680/19600 (39%)] Ternary acc: 47% | Relations acc: 70% | Non-relations acc: 52%\n",
      "Train Epoch: 9 [8960/19600 (46%)] Ternary acc: 59% | Relations acc: 66% | Non-relations acc: 64%\n",
      "Train Epoch: 9 [10240/19600 (52%)] Ternary acc: 42% | Relations acc: 66% | Non-relations acc: 53%\n",
      "Train Epoch: 9 [11520/19600 (59%)] Ternary acc: 58% | Relations acc: 67% | Non-relations acc: 69%\n",
      "Train Epoch: 9 [12800/19600 (65%)] Ternary acc: 47% | Relations acc: 61% | Non-relations acc: 61%\n",
      "Train Epoch: 9 [14080/19600 (72%)] Ternary acc: 56% | Relations acc: 66% | Non-relations acc: 53%\n",
      "Train Epoch: 9 [15360/19600 (78%)] Ternary acc: 55% | Relations acc: 61% | Non-relations acc: 61%\n",
      "Train Epoch: 9 [16640/19600 (85%)] Ternary acc: 47% | Relations acc: 66% | Non-relations acc: 53%\n",
      "Train Epoch: 9 [17920/19600 (91%)] Ternary acc: 59% | Relations acc: 64% | Non-relations acc: 53%\n",
      "Train Epoch: 9 [19200/19600 (98%)] Ternary acc: 53% | Relations acc: 67% | Non-relations acc: 59%\n",
      "\n",
      " Test set: Ternary accuracy: 45% Binary accuracy: 48% | Unary accuracy: 54%\n",
      "\n",
      "Train Epoch: 10 [0/19600 (0%)] Ternary acc: 66% | Relations acc: 73% | Non-relations acc: 73%\n",
      "Train Epoch: 10 [1280/19600 (7%)] Ternary acc: 48% | Relations acc: 66% | Non-relations acc: 59%\n",
      "Train Epoch: 10 [2560/19600 (13%)] Ternary acc: 56% | Relations acc: 69% | Non-relations acc: 64%\n",
      "Train Epoch: 10 [3840/19600 (20%)] Ternary acc: 52% | Relations acc: 72% | Non-relations acc: 73%\n",
      "Train Epoch: 10 [5120/19600 (26%)] Ternary acc: 64% | Relations acc: 69% | Non-relations acc: 55%\n",
      "Train Epoch: 10 [6400/19600 (33%)] Ternary acc: 59% | Relations acc: 66% | Non-relations acc: 56%\n",
      "Train Epoch: 10 [7680/19600 (39%)] Ternary acc: 61% | Relations acc: 66% | Non-relations acc: 62%\n",
      "Train Epoch: 10 [8960/19600 (46%)] Ternary acc: 45% | Relations acc: 72% | Non-relations acc: 58%\n",
      "Train Epoch: 10 [10240/19600 (52%)] Ternary acc: 50% | Relations acc: 69% | Non-relations acc: 72%\n",
      "Train Epoch: 10 [11520/19600 (59%)] Ternary acc: 52% | Relations acc: 67% | Non-relations acc: 58%\n",
      "Train Epoch: 10 [12800/19600 (65%)] Ternary acc: 55% | Relations acc: 64% | Non-relations acc: 58%\n",
      "Train Epoch: 10 [14080/19600 (72%)] Ternary acc: 62% | Relations acc: 72% | Non-relations acc: 53%\n",
      "Train Epoch: 10 [15360/19600 (78%)] Ternary acc: 55% | Relations acc: 64% | Non-relations acc: 58%\n",
      "Train Epoch: 10 [16640/19600 (85%)] Ternary acc: 64% | Relations acc: 64% | Non-relations acc: 62%\n",
      "Train Epoch: 10 [17920/19600 (91%)] Ternary acc: 55% | Relations acc: 62% | Non-relations acc: 64%\n",
      "Train Epoch: 10 [19200/19600 (98%)] Ternary acc: 52% | Relations acc: 66% | Non-relations acc: 69%\n",
      "\n",
      " Test set: Ternary accuracy: 45% Binary accuracy: 47% | Unary accuracy: 58%\n",
      "\n",
      "Train Epoch: 11 [0/19600 (0%)] Ternary acc: 52% | Relations acc: 67% | Non-relations acc: 56%\n",
      "Train Epoch: 11 [1280/19600 (7%)] Ternary acc: 64% | Relations acc: 70% | Non-relations acc: 64%\n"
     ]
    },
    {
     "name": "stdout",
     "output_type": "stream",
     "text": [
      "Train Epoch: 11 [2560/19600 (13%)] Ternary acc: 58% | Relations acc: 75% | Non-relations acc: 67%\n",
      "Train Epoch: 11 [3840/19600 (20%)] Ternary acc: 56% | Relations acc: 70% | Non-relations acc: 58%\n",
      "Train Epoch: 11 [5120/19600 (26%)] Ternary acc: 64% | Relations acc: 77% | Non-relations acc: 56%\n",
      "Train Epoch: 11 [6400/19600 (33%)] Ternary acc: 56% | Relations acc: 72% | Non-relations acc: 62%\n",
      "Train Epoch: 11 [7680/19600 (39%)] Ternary acc: 58% | Relations acc: 72% | Non-relations acc: 67%\n",
      "Train Epoch: 11 [8960/19600 (46%)] Ternary acc: 50% | Relations acc: 59% | Non-relations acc: 69%\n",
      "Train Epoch: 11 [10240/19600 (52%)] Ternary acc: 55% | Relations acc: 72% | Non-relations acc: 55%\n",
      "Train Epoch: 11 [11520/19600 (59%)] Ternary acc: 56% | Relations acc: 70% | Non-relations acc: 69%\n",
      "Train Epoch: 11 [12800/19600 (65%)] Ternary acc: 48% | Relations acc: 69% | Non-relations acc: 59%\n",
      "Train Epoch: 11 [14080/19600 (72%)] Ternary acc: 58% | Relations acc: 72% | Non-relations acc: 64%\n",
      "Train Epoch: 11 [15360/19600 (78%)] Ternary acc: 61% | Relations acc: 69% | Non-relations acc: 64%\n",
      "Train Epoch: 11 [16640/19600 (85%)] Ternary acc: 52% | Relations acc: 66% | Non-relations acc: 73%\n",
      "Train Epoch: 11 [17920/19600 (91%)] Ternary acc: 59% | Relations acc: 72% | Non-relations acc: 67%\n",
      "Train Epoch: 11 [19200/19600 (98%)] Ternary acc: 50% | Relations acc: 62% | Non-relations acc: 64%\n",
      "\n",
      " Test set: Ternary accuracy: 49% Binary accuracy: 47% | Unary accuracy: 56%\n",
      "\n",
      "Train Epoch: 12 [0/19600 (0%)] Ternary acc: 61% | Relations acc: 70% | Non-relations acc: 64%\n",
      "Train Epoch: 12 [1280/19600 (7%)] Ternary acc: 50% | Relations acc: 67% | Non-relations acc: 64%\n",
      "Train Epoch: 12 [2560/19600 (13%)] Ternary acc: 52% | Relations acc: 70% | Non-relations acc: 67%\n",
      "Train Epoch: 12 [3840/19600 (20%)] Ternary acc: 70% | Relations acc: 62% | Non-relations acc: 48%\n",
      "Train Epoch: 12 [5120/19600 (26%)] Ternary acc: 55% | Relations acc: 75% | Non-relations acc: 67%\n",
      "Train Epoch: 12 [6400/19600 (33%)] Ternary acc: 53% | Relations acc: 69% | Non-relations acc: 69%\n",
      "Train Epoch: 12 [7680/19600 (39%)] Ternary acc: 47% | Relations acc: 67% | Non-relations acc: 61%\n",
      "Train Epoch: 12 [8960/19600 (46%)] Ternary acc: 67% | Relations acc: 70% | Non-relations acc: 55%\n",
      "Train Epoch: 12 [10240/19600 (52%)] Ternary acc: 58% | Relations acc: 67% | Non-relations acc: 69%\n",
      "Train Epoch: 12 [11520/19600 (59%)] Ternary acc: 62% | Relations acc: 69% | Non-relations acc: 52%\n",
      "Train Epoch: 12 [12800/19600 (65%)] Ternary acc: 56% | Relations acc: 69% | Non-relations acc: 69%\n",
      "Train Epoch: 12 [14080/19600 (72%)] Ternary acc: 42% | Relations acc: 66% | Non-relations acc: 55%\n",
      "Train Epoch: 12 [15360/19600 (78%)] Ternary acc: 55% | Relations acc: 69% | Non-relations acc: 59%\n",
      "Train Epoch: 12 [16640/19600 (85%)] Ternary acc: 56% | Relations acc: 77% | Non-relations acc: 56%\n",
      "Train Epoch: 12 [17920/19600 (91%)] Ternary acc: 55% | Relations acc: 78% | Non-relations acc: 64%\n",
      "Train Epoch: 12 [19200/19600 (98%)] Ternary acc: 47% | Relations acc: 81% | Non-relations acc: 70%\n",
      "\n",
      " Test set: Ternary accuracy: 45% Binary accuracy: 47% | Unary accuracy: 54%\n",
      "\n",
      "Train Epoch: 13 [0/19600 (0%)] Ternary acc: 55% | Relations acc: 70% | Non-relations acc: 62%\n",
      "Train Epoch: 13 [1280/19600 (7%)] Ternary acc: 67% | Relations acc: 69% | Non-relations acc: 59%\n",
      "Train Epoch: 13 [2560/19600 (13%)] Ternary acc: 52% | Relations acc: 75% | Non-relations acc: 61%\n",
      "Train Epoch: 13 [3840/19600 (20%)] Ternary acc: 61% | Relations acc: 59% | Non-relations acc: 70%\n",
      "Train Epoch: 13 [5120/19600 (26%)] Ternary acc: 59% | Relations acc: 75% | Non-relations acc: 64%\n",
      "Train Epoch: 13 [6400/19600 (33%)] Ternary acc: 55% | Relations acc: 75% | Non-relations acc: 56%\n",
      "Train Epoch: 13 [7680/19600 (39%)] Ternary acc: 52% | Relations acc: 73% | Non-relations acc: 53%\n",
      "Train Epoch: 13 [8960/19600 (46%)] Ternary acc: 47% | Relations acc: 69% | Non-relations acc: 61%\n",
      "Train Epoch: 13 [10240/19600 (52%)] Ternary acc: 45% | Relations acc: 75% | Non-relations acc: 59%\n",
      "Train Epoch: 13 [11520/19600 (59%)] Ternary acc: 53% | Relations acc: 77% | Non-relations acc: 61%\n",
      "Train Epoch: 13 [12800/19600 (65%)] Ternary acc: 55% | Relations acc: 86% | Non-relations acc: 59%\n",
      "Train Epoch: 13 [14080/19600 (72%)] Ternary acc: 64% | Relations acc: 80% | Non-relations acc: 59%\n",
      "Train Epoch: 13 [15360/19600 (78%)] Ternary acc: 58% | Relations acc: 69% | Non-relations acc: 64%\n",
      "Train Epoch: 13 [16640/19600 (85%)] Ternary acc: 53% | Relations acc: 56% | Non-relations acc: 69%\n",
      "Train Epoch: 13 [17920/19600 (91%)] Ternary acc: 55% | Relations acc: 70% | Non-relations acc: 62%\n",
      "Train Epoch: 13 [19200/19600 (98%)] Ternary acc: 56% | Relations acc: 73% | Non-relations acc: 59%\n",
      "\n",
      " Test set: Ternary accuracy: 44% Binary accuracy: 55% | Unary accuracy: 49%\n",
      "\n",
      "Train Epoch: 14 [0/19600 (0%)] Ternary acc: 59% | Relations acc: 75% | Non-relations acc: 66%\n",
      "Train Epoch: 14 [1280/19600 (7%)] Ternary acc: 50% | Relations acc: 84% | Non-relations acc: 53%\n",
      "Train Epoch: 14 [2560/19600 (13%)] Ternary acc: 61% | Relations acc: 70% | Non-relations acc: 69%\n",
      "Train Epoch: 14 [3840/19600 (20%)] Ternary acc: 50% | Relations acc: 77% | Non-relations acc: 64%\n",
      "Train Epoch: 14 [5120/19600 (26%)] Ternary acc: 61% | Relations acc: 72% | Non-relations acc: 62%\n",
      "Train Epoch: 14 [6400/19600 (33%)] Ternary acc: 55% | Relations acc: 78% | Non-relations acc: 69%\n",
      "Train Epoch: 14 [7680/19600 (39%)] Ternary acc: 64% | Relations acc: 70% | Non-relations acc: 62%\n",
      "Train Epoch: 14 [8960/19600 (46%)] Ternary acc: 56% | Relations acc: 73% | Non-relations acc: 66%\n",
      "Train Epoch: 14 [10240/19600 (52%)] Ternary acc: 58% | Relations acc: 72% | Non-relations acc: 61%\n",
      "Train Epoch: 14 [11520/19600 (59%)] Ternary acc: 59% | Relations acc: 70% | Non-relations acc: 56%\n",
      "Train Epoch: 14 [12800/19600 (65%)] Ternary acc: 59% | Relations acc: 78% | Non-relations acc: 62%\n",
      "Train Epoch: 14 [14080/19600 (72%)] Ternary acc: 56% | Relations acc: 75% | Non-relations acc: 56%\n",
      "Train Epoch: 14 [15360/19600 (78%)] Ternary acc: 58% | Relations acc: 67% | Non-relations acc: 66%\n",
      "Train Epoch: 14 [16640/19600 (85%)] Ternary acc: 42% | Relations acc: 73% | Non-relations acc: 69%\n",
      "Train Epoch: 14 [17920/19600 (91%)] Ternary acc: 56% | Relations acc: 73% | Non-relations acc: 59%\n",
      "Train Epoch: 14 [19200/19600 (98%)] Ternary acc: 58% | Relations acc: 70% | Non-relations acc: 73%\n",
      "\n",
      " Test set: Ternary accuracy: 45% Binary accuracy: 47% | Unary accuracy: 50%\n",
      "\n",
      "Train Epoch: 15 [0/19600 (0%)] Ternary acc: 55% | Relations acc: 72% | Non-relations acc: 69%\n",
      "Train Epoch: 15 [1280/19600 (7%)] Ternary acc: 56% | Relations acc: 70% | Non-relations acc: 72%\n",
      "Train Epoch: 15 [2560/19600 (13%)] Ternary acc: 64% | Relations acc: 70% | Non-relations acc: 69%\n",
      "Train Epoch: 15 [3840/19600 (20%)] Ternary acc: 61% | Relations acc: 80% | Non-relations acc: 62%\n",
      "Train Epoch: 15 [5120/19600 (26%)] Ternary acc: 55% | Relations acc: 80% | Non-relations acc: 64%\n",
      "Train Epoch: 15 [6400/19600 (33%)] Ternary acc: 62% | Relations acc: 77% | Non-relations acc: 62%\n",
      "Train Epoch: 15 [7680/19600 (39%)] Ternary acc: 48% | Relations acc: 73% | Non-relations acc: 69%\n",
      "Train Epoch: 15 [8960/19600 (46%)] Ternary acc: 62% | Relations acc: 61% | Non-relations acc: 58%\n",
      "Train Epoch: 15 [10240/19600 (52%)] Ternary acc: 52% | Relations acc: 70% | Non-relations acc: 70%\n",
      "Train Epoch: 15 [11520/19600 (59%)] Ternary acc: 55% | Relations acc: 78% | Non-relations acc: 66%\n",
      "Train Epoch: 15 [12800/19600 (65%)] Ternary acc: 55% | Relations acc: 66% | Non-relations acc: 62%\n",
      "Train Epoch: 15 [14080/19600 (72%)] Ternary acc: 55% | Relations acc: 62% | Non-relations acc: 69%\n",
      "Train Epoch: 15 [15360/19600 (78%)] Ternary acc: 56% | Relations acc: 81% | Non-relations acc: 56%\n",
      "Train Epoch: 15 [16640/19600 (85%)] Ternary acc: 52% | Relations acc: 80% | Non-relations acc: 72%\n",
      "Train Epoch: 15 [17920/19600 (91%)] Ternary acc: 59% | Relations acc: 73% | Non-relations acc: 69%\n",
      "Train Epoch: 15 [19200/19600 (98%)] Ternary acc: 62% | Relations acc: 72% | Non-relations acc: 72%\n",
      "\n",
      " Test set: Ternary accuracy: 48% Binary accuracy: 51% | Unary accuracy: 56%\n",
      "\n",
      "Train Epoch: 16 [0/19600 (0%)] Ternary acc: 48% | Relations acc: 77% | Non-relations acc: 62%\n",
      "Train Epoch: 16 [1280/19600 (7%)] Ternary acc: 53% | Relations acc: 78% | Non-relations acc: 66%\n"
     ]
    },
    {
     "name": "stdout",
     "output_type": "stream",
     "text": [
      "Train Epoch: 16 [2560/19600 (13%)] Ternary acc: 50% | Relations acc: 66% | Non-relations acc: 53%\n",
      "Train Epoch: 16 [3840/19600 (20%)] Ternary acc: 55% | Relations acc: 77% | Non-relations acc: 58%\n",
      "Train Epoch: 16 [5120/19600 (26%)] Ternary acc: 59% | Relations acc: 67% | Non-relations acc: 70%\n",
      "Train Epoch: 16 [6400/19600 (33%)] Ternary acc: 70% | Relations acc: 70% | Non-relations acc: 66%\n",
      "Train Epoch: 16 [7680/19600 (39%)] Ternary acc: 59% | Relations acc: 81% | Non-relations acc: 66%\n",
      "Train Epoch: 16 [8960/19600 (46%)] Ternary acc: 64% | Relations acc: 66% | Non-relations acc: 56%\n",
      "Train Epoch: 16 [10240/19600 (52%)] Ternary acc: 58% | Relations acc: 84% | Non-relations acc: 64%\n",
      "Train Epoch: 16 [11520/19600 (59%)] Ternary acc: 62% | Relations acc: 75% | Non-relations acc: 69%\n",
      "Train Epoch: 16 [12800/19600 (65%)] Ternary acc: 53% | Relations acc: 80% | Non-relations acc: 66%\n",
      "Train Epoch: 16 [14080/19600 (72%)] Ternary acc: 59% | Relations acc: 73% | Non-relations acc: 69%\n",
      "Train Epoch: 16 [15360/19600 (78%)] Ternary acc: 56% | Relations acc: 72% | Non-relations acc: 58%\n",
      "Train Epoch: 16 [16640/19600 (85%)] Ternary acc: 53% | Relations acc: 78% | Non-relations acc: 70%\n",
      "Train Epoch: 16 [17920/19600 (91%)] Ternary acc: 58% | Relations acc: 73% | Non-relations acc: 59%\n",
      "Train Epoch: 16 [19200/19600 (98%)] Ternary acc: 50% | Relations acc: 73% | Non-relations acc: 59%\n",
      "\n",
      " Test set: Ternary accuracy: 45% Binary accuracy: 51% | Unary accuracy: 54%\n",
      "\n",
      "Train Epoch: 17 [0/19600 (0%)] Ternary acc: 61% | Relations acc: 81% | Non-relations acc: 66%\n",
      "Train Epoch: 17 [1280/19600 (7%)] Ternary acc: 73% | Relations acc: 78% | Non-relations acc: 72%\n",
      "Train Epoch: 17 [2560/19600 (13%)] Ternary acc: 67% | Relations acc: 64% | Non-relations acc: 59%\n",
      "Train Epoch: 17 [3840/19600 (20%)] Ternary acc: 48% | Relations acc: 77% | Non-relations acc: 72%\n",
      "Train Epoch: 17 [5120/19600 (26%)] Ternary acc: 50% | Relations acc: 78% | Non-relations acc: 75%\n",
      "Train Epoch: 17 [6400/19600 (33%)] Ternary acc: 62% | Relations acc: 78% | Non-relations acc: 66%\n",
      "Train Epoch: 17 [7680/19600 (39%)] Ternary acc: 53% | Relations acc: 62% | Non-relations acc: 59%\n",
      "Train Epoch: 17 [8960/19600 (46%)] Ternary acc: 66% | Relations acc: 86% | Non-relations acc: 64%\n",
      "Train Epoch: 17 [10240/19600 (52%)] Ternary acc: 72% | Relations acc: 77% | Non-relations acc: 62%\n",
      "Train Epoch: 17 [11520/19600 (59%)] Ternary acc: 53% | Relations acc: 75% | Non-relations acc: 72%\n",
      "Train Epoch: 17 [12800/19600 (65%)] Ternary acc: 55% | Relations acc: 80% | Non-relations acc: 64%\n",
      "Train Epoch: 17 [14080/19600 (72%)] Ternary acc: 61% | Relations acc: 69% | Non-relations acc: 59%\n",
      "Train Epoch: 17 [15360/19600 (78%)] Ternary acc: 59% | Relations acc: 69% | Non-relations acc: 80%\n",
      "Train Epoch: 17 [16640/19600 (85%)] Ternary acc: 53% | Relations acc: 80% | Non-relations acc: 66%\n",
      "Train Epoch: 17 [17920/19600 (91%)] Ternary acc: 58% | Relations acc: 84% | Non-relations acc: 52%\n",
      "Train Epoch: 17 [19200/19600 (98%)] Ternary acc: 58% | Relations acc: 77% | Non-relations acc: 59%\n",
      "\n",
      " Test set: Ternary accuracy: 52% Binary accuracy: 47% | Unary accuracy: 55%\n",
      "\n",
      "Train Epoch: 18 [0/19600 (0%)] Ternary acc: 64% | Relations acc: 78% | Non-relations acc: 66%\n",
      "Train Epoch: 18 [1280/19600 (7%)] Ternary acc: 53% | Relations acc: 78% | Non-relations acc: 80%\n",
      "Train Epoch: 18 [2560/19600 (13%)] Ternary acc: 59% | Relations acc: 67% | Non-relations acc: 62%\n",
      "Train Epoch: 18 [3840/19600 (20%)] Ternary acc: 52% | Relations acc: 72% | Non-relations acc: 58%\n",
      "Train Epoch: 18 [5120/19600 (26%)] Ternary acc: 56% | Relations acc: 80% | Non-relations acc: 64%\n",
      "Train Epoch: 18 [6400/19600 (33%)] Ternary acc: 62% | Relations acc: 73% | Non-relations acc: 55%\n",
      "Train Epoch: 18 [7680/19600 (39%)] Ternary acc: 62% | Relations acc: 83% | Non-relations acc: 59%\n",
      "Train Epoch: 18 [8960/19600 (46%)] Ternary acc: 56% | Relations acc: 70% | Non-relations acc: 78%\n",
      "Train Epoch: 18 [10240/19600 (52%)] Ternary acc: 52% | Relations acc: 66% | Non-relations acc: 62%\n",
      "Train Epoch: 18 [11520/19600 (59%)] Ternary acc: 56% | Relations acc: 69% | Non-relations acc: 66%\n",
      "Train Epoch: 18 [12800/19600 (65%)] Ternary acc: 47% | Relations acc: 78% | Non-relations acc: 70%\n",
      "Train Epoch: 18 [14080/19600 (72%)] Ternary acc: 55% | Relations acc: 72% | Non-relations acc: 61%\n",
      "Train Epoch: 18 [15360/19600 (78%)] Ternary acc: 56% | Relations acc: 75% | Non-relations acc: 64%\n",
      "Train Epoch: 18 [16640/19600 (85%)] Ternary acc: 53% | Relations acc: 78% | Non-relations acc: 66%\n",
      "Train Epoch: 18 [17920/19600 (91%)] Ternary acc: 50% | Relations acc: 80% | Non-relations acc: 53%\n",
      "Train Epoch: 18 [19200/19600 (98%)] Ternary acc: 67% | Relations acc: 75% | Non-relations acc: 69%\n",
      "\n",
      " Test set: Ternary accuracy: 48% Binary accuracy: 47% | Unary accuracy: 55%\n",
      "\n",
      "Train Epoch: 19 [0/19600 (0%)] Ternary acc: 53% | Relations acc: 81% | Non-relations acc: 59%\n",
      "Train Epoch: 19 [1280/19600 (7%)] Ternary acc: 56% | Relations acc: 78% | Non-relations acc: 66%\n",
      "Train Epoch: 19 [2560/19600 (13%)] Ternary acc: 58% | Relations acc: 69% | Non-relations acc: 59%\n",
      "Train Epoch: 19 [3840/19600 (20%)] Ternary acc: 64% | Relations acc: 70% | Non-relations acc: 66%\n",
      "Train Epoch: 19 [5120/19600 (26%)] Ternary acc: 59% | Relations acc: 84% | Non-relations acc: 72%\n",
      "Train Epoch: 19 [6400/19600 (33%)] Ternary acc: 59% | Relations acc: 77% | Non-relations acc: 70%\n",
      "Train Epoch: 19 [7680/19600 (39%)] Ternary acc: 59% | Relations acc: 88% | Non-relations acc: 66%\n",
      "Train Epoch: 19 [8960/19600 (46%)] Ternary acc: 55% | Relations acc: 70% | Non-relations acc: 67%\n",
      "Train Epoch: 19 [10240/19600 (52%)] Ternary acc: 48% | Relations acc: 80% | Non-relations acc: 67%\n",
      "Train Epoch: 19 [11520/19600 (59%)] Ternary acc: 55% | Relations acc: 84% | Non-relations acc: 61%\n",
      "Train Epoch: 19 [12800/19600 (65%)] Ternary acc: 78% | Relations acc: 70% | Non-relations acc: 59%\n",
      "Train Epoch: 19 [14080/19600 (72%)] Ternary acc: 58% | Relations acc: 83% | Non-relations acc: 70%\n",
      "Train Epoch: 19 [15360/19600 (78%)] Ternary acc: 66% | Relations acc: 72% | Non-relations acc: 59%\n",
      "Train Epoch: 19 [16640/19600 (85%)] Ternary acc: 66% | Relations acc: 80% | Non-relations acc: 64%\n",
      "Train Epoch: 19 [17920/19600 (91%)] Ternary acc: 62% | Relations acc: 78% | Non-relations acc: 67%\n",
      "Train Epoch: 19 [19200/19600 (98%)] Ternary acc: 58% | Relations acc: 72% | Non-relations acc: 61%\n",
      "\n",
      " Test set: Ternary accuracy: 45% Binary accuracy: 54% | Unary accuracy: 48%\n",
      "\n",
      "Train Epoch: 20 [0/19600 (0%)] Ternary acc: 73% | Relations acc: 72% | Non-relations acc: 70%\n",
      "Train Epoch: 20 [1280/19600 (7%)] Ternary acc: 61% | Relations acc: 77% | Non-relations acc: 58%\n",
      "Train Epoch: 20 [2560/19600 (13%)] Ternary acc: 62% | Relations acc: 80% | Non-relations acc: 67%\n",
      "Train Epoch: 20 [3840/19600 (20%)] Ternary acc: 61% | Relations acc: 83% | Non-relations acc: 64%\n",
      "Train Epoch: 20 [5120/19600 (26%)] Ternary acc: 52% | Relations acc: 84% | Non-relations acc: 70%\n",
      "Train Epoch: 20 [6400/19600 (33%)] Ternary acc: 64% | Relations acc: 77% | Non-relations acc: 67%\n",
      "Train Epoch: 20 [7680/19600 (39%)] Ternary acc: 61% | Relations acc: 75% | Non-relations acc: 70%\n",
      "Train Epoch: 20 [8960/19600 (46%)] Ternary acc: 59% | Relations acc: 81% | Non-relations acc: 69%\n",
      "Train Epoch: 20 [10240/19600 (52%)] Ternary acc: 56% | Relations acc: 81% | Non-relations acc: 75%\n",
      "Train Epoch: 20 [11520/19600 (59%)] Ternary acc: 56% | Relations acc: 77% | Non-relations acc: 62%\n",
      "Train Epoch: 20 [12800/19600 (65%)] Ternary acc: 67% | Relations acc: 83% | Non-relations acc: 64%\n",
      "Train Epoch: 20 [14080/19600 (72%)] Ternary acc: 56% | Relations acc: 72% | Non-relations acc: 64%\n",
      "Train Epoch: 20 [15360/19600 (78%)] Ternary acc: 69% | Relations acc: 84% | Non-relations acc: 72%\n",
      "Train Epoch: 20 [16640/19600 (85%)] Ternary acc: 47% | Relations acc: 72% | Non-relations acc: 59%\n",
      "Train Epoch: 20 [17920/19600 (91%)] Ternary acc: 56% | Relations acc: 77% | Non-relations acc: 73%\n",
      "Train Epoch: 20 [19200/19600 (98%)] Ternary acc: 52% | Relations acc: 86% | Non-relations acc: 66%\n",
      "\n",
      " Test set: Ternary accuracy: 46% Binary accuracy: 55% | Unary accuracy: 50%\n",
      "\n"
     ]
    }
   ],
   "source": [
    "with open(fn_log, 'w') as log_file:\n",
    "    csv_writer = csv.writer(log_file, delimiter=',')\n",
    "    csv_writer.writerow(['epoch', 'train_acc_ternary', 'train_acc_rel',\n",
    "                     'train_acc_norel', 'train_acc_ternary', 'test_acc_rel', 'test_acc_norel'])\n",
    "\n",
    "    print(f\"Training {args.model} {f'({args.relation_type})' if args.model == 'RN' else '{}'} model...\")\n",
    "    \n",
    "    vloss_ternary=[]\n",
    "    vloss_binary=[]\n",
    "    vloss_unary =[]\n",
    "    for epoch in range(1, args.epochs + 1):\n",
    "        train_acc_ternary, train_acc_binary, train_acc_unary, loss_ternary, loss_binary, loss_unary = train(\n",
    "            epoch, ternary_train, rel_train, norel_train)\n",
    "        test_acc_ternary, test_acc_binary, test_acc_unary = test(\n",
    "            epoch, ternary_test, rel_test, norel_test)\n",
    "        \n",
    "        vloss_ternary.append(loss_ternary)\n",
    "        vloss_binary.append(loss_binary)\n",
    "        vloss_unary.append(loss_unary)\n",
    "                \n",
    "        csv_writer.writerow([epoch, train_acc_ternary, train_acc_binary,\n",
    "                         train_acc_unary, test_acc_ternary, test_acc_binary, test_acc_unary])\n",
    "        model.save_model(epoch)"
   ]
  },
  {
   "cell_type": "code",
   "execution_count": 27,
   "metadata": {
    "scrolled": true
   },
   "outputs": [
    {
     "name": "stdout",
     "output_type": "stream",
     "text": [
      "Model: CNN_MLP\n",
      "\n",
      " Test set: Ternary accuracy: 43% Binary accuracy: 54% | Unary accuracy: 51%\n",
      "\n"
     ]
    }
   ],
   "source": [
    "print('Model: {}'.format(args.model))\n",
    "test_acc_ternary, test_acc_binary, test_acc_unary = test(\n",
    "            epoch, ternary_test, rel_test, norel_test)"
   ]
  },
  {
   "cell_type": "code",
   "execution_count": 28,
   "metadata": {},
   "outputs": [
    {
     "data": {
      "image/png": "[encoded data removed]",
      "text/plain": [
       "<Figure size 500x300 with 1 Axes>"
      ]
     },
     "metadata": {},
     "output_type": "display_data"
    }
   ],
   "source": [
    "import matplotlib.pyplot as plt\n",
    "plt.figure(figsize=(5,3), dpi=100)\n",
    "plt.plot(vloss_ternary)\n",
    "plt.plot(vloss_binary)\n",
    "plt.plot(vloss_unary)\n",
    "plt.legend(['ternary', 'binary', 'unary'])\n",
    "plt.title(args.model)\n",
    "plt.xlabel('epoch')\n",
    "plt.savefig('loss_{}.png'.format(args.model))\n",
    "plt.show()"
   ]
  },
  {
   "cell_type": "markdown",
   "metadata": {},
   "source": [
    "### References\n",
    "* https://github.com/kimhc6028/relational-networks/"
   ]
  }
 ],
 "metadata": {
  "kernelspec": {
   "display_name": "Python 3",
   "language": "python",
   "name": "python3"
  },
  "language_info": {
   "codemirror_mode": {
    "name": "ipython",
    "version": 3
   },
   "file_extension": ".py",
   "mimetype": "text/x-python",
   "name": "python",
   "nbconvert_exporter": "python",
   "pygments_lexer": "ipython3",
   "version": "3.8.10"
  }
 },
 "nbformat": 4,
 "nbformat_minor": 2
}
