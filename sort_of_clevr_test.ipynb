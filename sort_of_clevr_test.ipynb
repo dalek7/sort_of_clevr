{
 "cells": [
  {
   "cell_type": "markdown",
   "metadata": {},
   "source": [
    "### Sort-of-CLEVR"
   ]
  },
  {
   "cell_type": "markdown",
   "metadata": {},
   "source": [
    "Sort-of-CLEVR consists of images of 2D colored shapes along with questions and answers about the\n",
    "images. Each image has a total of 6 objects, where each object is a randomly chosen shape (square\n",
    "or circle). We used 6 colors (red, blue, green, orange, yellow, gray) to unambiguously identify each\n",
    "object."
   ]
  },
  {
   "cell_type": "code",
   "execution_count": 1,
   "metadata": {},
   "outputs": [],
   "source": [
    "import cv2\n",
    "import os\n",
    "import numpy as np\n",
    "import random\n",
    "import pickle\n",
    "import warnings\n",
    "#import argparse\n",
    "from matplotlib import pyplot as plt"
   ]
  },
  {
   "cell_type": "code",
   "execution_count": 2,
   "metadata": {},
   "outputs": [],
   "source": [
    "import easydict\n",
    "args = easydict.EasyDict({\n",
    "        \"seed\": 1,\n",
    "        \"t_subtype\": -1, # for selecting the sub-questions. If set to negative, it will randomly select the type.\n",
    "})"
   ]
  },
  {
   "cell_type": "code",
   "execution_count": 3,
   "metadata": {},
   "outputs": [],
   "source": [
    "random.seed(args.seed)\n",
    "np.random.seed(args.seed)"
   ]
  },
  {
   "cell_type": "code",
   "execution_count": 4,
   "metadata": {},
   "outputs": [
    {
     "name": "stdout",
     "output_type": "stream",
     "text": [
      "directory ./data already exists\n"
     ]
    }
   ],
   "source": [
    "train_size = 9800//10\n",
    "test_size = 200//10\n",
    "img_size = 75 # width and height of the image\n",
    "size = 5 # size of each object in the image \n",
    "question_size = 18  ## 2 x (6 for one-hot vector of color), 3 for question type, 3 for question subtype\n",
    "q_type_idx = 12 #+0 for non-relational, +1 for Binary Relational questions, +2 for Ternary Relational questions\n",
    "sub_q_type_idx = 15\n",
    "\"\"\"Answer : [yes, no, rectangle, circle, r, g, b, o, k, y]\"\"\"\n",
    "\n",
    "nb_questions = 10\n",
    "dirs = './data'\n",
    "\n",
    "colors = [\n",
    "    (0,0,255),##r\n",
    "    (0,255,0),##g\n",
    "    (255,0,0),##b\n",
    "    (0,156,255),##o\n",
    "    (128,128,128),##k\n",
    "    (0,255,255)##y\n",
    "]\n",
    "\n",
    "\n",
    "try:\n",
    "    os.makedirs(dirs)\n",
    "except:\n",
    "    print('directory {} already exists'.format(dirs))\n"
   ]
  },
  {
   "cell_type": "code",
   "execution_count": 5,
   "metadata": {},
   "outputs": [],
   "source": [
    "def center_generate(objects):\n",
    "    while True:\n",
    "        pas = True\n",
    "        center = np.random.randint(0+size, img_size - size, 2)        \n",
    "        if len(objects) > 0:\n",
    "            for name,c,shape in objects:\n",
    "                if ((center - c) ** 2).sum() < ((size * 2) ** 2):\n",
    "                    pas = False\n",
    "        if pas:\n",
    "            return center"
   ]
  },
  {
   "cell_type": "code",
   "execution_count": 6,
   "metadata": {},
   "outputs": [
    {
     "data": {
      "text/plain": [
       "[array([42, 17]),\n",
       " array([14, 10]),\n",
       " array([69, 21]),\n",
       " array([ 6, 11]),\n",
       " array([30, 55])]"
      ]
     },
     "execution_count": 6,
     "metadata": {},
     "output_type": "execute_result"
    }
   ],
   "source": [
    "[center_generate([]) for _ in range(5)]"
   ]
  },
  {
   "cell_type": "code",
   "execution_count": 7,
   "metadata": {
    "scrolled": true
   },
   "outputs": [
    {
     "name": "stdout",
     "output_type": "stream",
     "text": [
      "[25 23]\n"
     ]
    }
   ],
   "source": [
    "center = center_generate([])\n",
    "print(center)"
   ]
  },
  {
   "cell_type": "code",
   "execution_count": 8,
   "metadata": {},
   "outputs": [],
   "source": [
    "def test_img(n_figs=5):\n",
    "    vimg=[]\n",
    "    vobject=[]\n",
    "    for _ in range(n_figs):\n",
    "        objects = []\n",
    "        img = np.ones((img_size,img_size,3)) * 255.0\n",
    "        \n",
    "        for color_id,color in enumerate(colors):  \n",
    "            center = center_generate(objects)\n",
    "            \n",
    "            if random.random()<0.5:\n",
    "                start = (center[0]-size, center[1]-size)\n",
    "                end = (center[0]+size, center[1]+size)\n",
    "                cv2.rectangle(img, start, end, color, -1)\n",
    "                objects.append((color_id,center,'r'))\n",
    "            else:\n",
    "                center_ = (center[0], center[1])\n",
    "                cv2.circle(img, center_, size, color, -1)\n",
    "                objects.append((color_id,center,'c'))\n",
    "        img = img/255.\n",
    "\n",
    "        vimg.append(img)\n",
    "        vobject.append(objects)\n",
    "    return vimg, vobject\n"
   ]
  },
  {
   "cell_type": "markdown",
   "metadata": {},
   "source": [
    "* Just for the test <br>\n",
    ": 모든 색깔에 대해 0.5의 확률로 네모나 원을 그림"
   ]
  },
  {
   "cell_type": "code",
   "execution_count": 9,
   "metadata": {},
   "outputs": [
    {
     "data": {
      "image/png": "[encoded data removed]",
      "text/plain": [
       "<Figure size 450x450 with 1 Axes>"
      ]
     },
     "metadata": {},
     "output_type": "display_data"
    }
   ],
   "source": [
    "ntest = 1\n",
    "plt.figure(figsize=(3, 3), dpi=150)\n",
    "vimg, vobjects = test_img(ntest)\n",
    "plt.imshow(vimg[0])\n",
    "plt.tight_layout()\n",
    "plt.savefig('images/example.png')\n",
    "plt.show()"
   ]
  },
  {
   "cell_type": "code",
   "execution_count": 10,
   "metadata": {
    "scrolled": true
   },
   "outputs": [
    {
     "name": "stdout",
     "output_type": "stream",
     "text": [
      "[(0, array([16, 33]), 'r'), (1, array([34, 19]), 'c'), (2, array([55, 18]), 'c'), (3, array([14, 12]), 'r'), (4, array([68, 66]), 'r'), (5, array([27, 62]), 'r')]\n"
     ]
    }
   ],
   "source": [
    "print(vobjects[0]) # (color_id,center,'rect' / 'circle')"
   ]
  },
  {
   "cell_type": "code",
   "execution_count": null,
   "metadata": {},
   "outputs": [],
   "source": []
  },
  {
   "cell_type": "code",
   "execution_count": 11,
   "metadata": {},
   "outputs": [
    {
     "name": "stdout",
     "output_type": "stream",
     "text": [
      "color=5\n",
      "[27 62]\n"
     ]
    }
   ],
   "source": [
    "color = random.randint(0,5)\n",
    "print('color={}'.format(color))\n",
    "\n",
    "objects = vobjects[0]\n",
    "my_obj = objects[color][1]  # center 점을 my_obj라고 부름\n",
    "                            # color는 unique하게 부여되기 때문에 객체 인덱스역할\n",
    "print(my_obj)"
   ]
  },
  {
   "cell_type": "code",
   "execution_count": null,
   "metadata": {},
   "outputs": [],
   "source": []
  },
  {
   "cell_type": "code",
   "execution_count": 22,
   "metadata": {},
   "outputs": [
    {
     "data": {
      "image/png": "[encoded data removed]",
      "text/plain": [
       "<Figure size 1000x250 with 6 Axes>"
      ]
     },
     "metadata": {},
     "output_type": "display_data"
    }
   ],
   "source": [
    "ntest = 6\n",
    "vimg, vobjects = test_img(ntest)\n",
    "plt.figure(figsize=(10,2.5), dpi=100)\n",
    "for i, img in enumerate(vimg):\n",
    "    plt.subplot(1, ntest, i+1) \n",
    "    plt.imshow(img)\n",
    "    plt.title('#{}'.format(i))\n",
    "\n",
    "plt.tight_layout()\n",
    "plt.savefig('images/example2.png')\n",
    "plt.show()\n",
    "#vimg[0].shape #(75, 75, 3)"
   ]
  },
  {
   "cell_type": "code",
   "execution_count": 13,
   "metadata": {},
   "outputs": [
    {
     "name": "stdout",
     "output_type": "stream",
     "text": [
      "75 75 3\n"
     ]
    }
   ],
   "source": [
    "print(img_size,img_size,3)"
   ]
  },
  {
   "cell_type": "code",
   "execution_count": 14,
   "metadata": {},
   "outputs": [
    {
     "name": "stdout",
     "output_type": "stream",
     "text": [
      "(0, array([6, 5]), 'r') (0, 0, 255)\n",
      "(1, array([65, 13]), 'r') (0, 255, 0)\n",
      "(2, array([18, 52]), 'r') (255, 0, 0)\n",
      "(3, array([35,  8]), 'c') (0, 156, 255)\n",
      "(4, array([29, 48]), 'r') (128, 128, 128)\n",
      "(5, array([46, 20]), 'c') (0, 255, 255)\n",
      "\n",
      "(0, array([69, 30]), 'c') (0, 0, 255)\n",
      "(1, array([12, 31]), 'c') (0, 255, 0)\n",
      "(2, array([30, 27]), 'r') (255, 0, 0)\n",
      "(3, array([32, 42]), 'c') (0, 156, 255)\n",
      "(4, array([62, 43]), 'c') (128, 128, 128)\n",
      "(5, array([39, 15]), 'r') (0, 255, 255)\n",
      "\n",
      "(0, array([28, 20]), 'r') (0, 0, 255)\n",
      "(1, array([30, 67]), 'r') (0, 255, 0)\n",
      "(2, array([51, 37]), 'c') (255, 0, 0)\n",
      "(3, array([8, 5]), 'r') (0, 156, 255)\n",
      "(4, array([11, 57]), 'c') (128, 128, 128)\n",
      "(5, array([ 7, 26]), 'c') (0, 255, 255)\n",
      "\n",
      "(0, array([12, 48]), 'c') (0, 0, 255)\n",
      "(1, array([25, 35]), 'c') (0, 255, 0)\n",
      "(2, array([41, 12]), 'c') (255, 0, 0)\n",
      "(3, array([50, 62]), 'c') (0, 156, 255)\n",
      "(4, array([18, 15]), 'c') (128, 128, 128)\n",
      "(5, array([28, 12]), 'c') (0, 255, 255)\n",
      "\n",
      "(0, array([29, 25]), 'r') (0, 0, 255)\n",
      "(1, array([37, 17]), 'c') (0, 255, 0)\n",
      "(2, array([65, 29]), 'c') (255, 0, 0)\n",
      "(3, array([ 7, 15]), 'c') (0, 156, 255)\n",
      "(4, array([59, 53]), 'c') (128, 128, 128)\n",
      "(5, array([59, 20]), 'r') (0, 255, 255)\n",
      "\n",
      "(0, array([10, 22]), 'c') (0, 0, 255)\n",
      "(1, array([47, 25]), 'c') (0, 255, 0)\n",
      "(2, array([18, 58]), 'r') (255, 0, 0)\n",
      "(3, array([66, 61]), 'c') (0, 156, 255)\n",
      "(4, array([26, 30]), 'c') (128, 128, 128)\n",
      "(5, array([48, 11]), 'r') (0, 255, 255)\n",
      "\n"
     ]
    }
   ],
   "source": [
    "for i in range(len(vobjects)):\n",
    "    for k in range(len(vobjects[i])):\n",
    "        print(vobjects[i][k], colors[vobjects[i][k][0]])\n",
    "    print()"
   ]
  },
  {
   "cell_type": "markdown",
   "metadata": {},
   "source": [
    "Questions are hard-coded as fixed-length binary strings to reduce the difficulty involved with natural language question-word processing, and thereby remove any confounding difficulty with language parsing.\n",
    "```\n",
    "questions = 2 x (6 for one-hot vector of color), 3 for question type(binary, ternary, norel), 3 for question subtype\n",
    "```\n",
    "최대 2개의 물체의 관계를 포함하기 위해 2개의 색을 지정할수 있도록 함. no_rel question에서는 1개만 색이 지정되게 됨."
   ]
  },
  {
   "cell_type": "code",
   "execution_count": 15,
   "metadata": {},
   "outputs": [
    {
     "data": {
      "text/plain": [
       "18"
      ]
     },
     "execution_count": 15,
     "metadata": {},
     "output_type": "execute_result"
    }
   ],
   "source": [
    "question_size"
   ]
  },
  {
   "cell_type": "markdown",
   "metadata": {},
   "source": [
    "* No-rel questions"
   ]
  },
  {
   "cell_type": "code",
   "execution_count": 16,
   "metadata": {},
   "outputs": [
    {
     "name": "stdout",
     "output_type": "stream",
     "text": [
      "[0. 0. 0. 0. 0. 0. 0. 0. 0. 0. 0. 0. 0. 0. 0. 0. 0. 0.]\n"
     ]
    }
   ],
   "source": [
    "norel_questions = []\n",
    "\n",
    "question = np.zeros((question_size))\n",
    "print(question)"
   ]
  },
  {
   "cell_type": "markdown",
   "metadata": {},
   "source": [
    "* norel_question 예제"
   ]
  },
  {
   "cell_type": "code",
   "execution_count": 17,
   "metadata": {},
   "outputs": [
    {
     "name": "stdout",
     "output_type": "stream",
     "text": [
      "5 --> [0. 0. 0. 0. 0. 1. 0. 0. 0. 0. 0. 0. 0. 0. 0. 0. 0. 0.]\n",
      "12 --> [0. 0. 0. 0. 0. 1. 0. 0. 0. 0. 0. 0. 1. 0. 0. 0. 0. 0.]  (fixed for norel_questions)\n",
      "15 + 1 --> [0. 0. 0. 0. 0. 1. 0. 0. 0. 0. 0. 0. 1. 0. 0. 0. 1. 0.]\n"
     ]
    }
   ],
   "source": [
    "#norel_question\n",
    "color = random.randint(0,5)\n",
    "question[color] = 1\n",
    "print(color, '-->', question)\n",
    "# --> norel_question 이기 때문에, 1개의 객체에 대한 색만 지정. \n",
    "\n",
    "question[q_type_idx] = 1 \n",
    "print(q_type_idx,'-->', question+0, ' (fixed for norel_questions)')\n",
    "\n",
    "subtype = random.randint(0,2) # 질문 유형 0-> shape, 1-> 중앙보다 왼쪽?, 2-> 중앙보다 오른쪽\n",
    "question[subtype+sub_q_type_idx] = 1\n",
    "print(sub_q_type_idx, '+', subtype , '-->', question)\n",
    "\n",
    "#norel_questions.append(question) "
   ]
  },
  {
   "cell_type": "code",
   "execution_count": null,
   "metadata": {},
   "outputs": [],
   "source": []
  },
  {
   "cell_type": "code",
   "execution_count": 18,
   "metadata": {},
   "outputs": [],
   "source": [
    "def build_dataset():\n",
    "    ''' 하나의 이미지에 들어갈 객체들을 생성하고, 생성된 객체들로부터 Relation 관련 질문을 만든다'''\n",
    "    objects = [] # 하나의 이미지에 들어갈 여러 객체 생성\n",
    "    img = np.ones((img_size,img_size,3)) * 255\n",
    "    for color_id,color in enumerate(colors):  \n",
    "        center = center_generate(objects)\n",
    "        if random.random()<0.5:\n",
    "            start = (center[0]-size, center[1]-size)\n",
    "            end = (center[0]+size, center[1]+size)\n",
    "            cv2.rectangle(img, start, end, color, -1)\n",
    "            objects.append((color_id,center,'r'))\n",
    "        else:\n",
    "            center_ = (center[0], center[1])\n",
    "            cv2.circle(img, center_, size, color, -1)\n",
    "            objects.append((color_id,center,'c'))\n",
    "\n",
    "\n",
    "    ternary_questions = []\n",
    "    binary_questions = []\n",
    "    norel_questions = []\n",
    "    ternary_answers = []\n",
    "    binary_answers = []\n",
    "    norel_answers = []\n",
    "    \"\"\"Non-relational questions\"\"\"\n",
    "    for _ in range(nb_questions):\n",
    "        question = np.zeros((question_size))\n",
    "        color = random.randint(0,5)\n",
    "        question[color] = 1\n",
    "        question[q_type_idx] = 1\n",
    "        subtype = random.randint(0,2)\n",
    "        question[subtype+sub_q_type_idx] = 1\n",
    "        norel_questions.append(question)\n",
    "        \"\"\"Answer : [yes, no, rectangle, circle, r, g, b, o, k, y]\"\"\"\n",
    "        if subtype == 0: \n",
    "            #shape 관련 질문\n",
    "            # 질문 유형 0-> shape, 1-> 중앙보다 왼쪽?, 2-> 중앙보다 오른쪽\n",
    "            \"\"\"query shape->rectangle/circle\"\"\"\n",
    "            if objects[color][2] == 'r':\n",
    "                answer = 2\n",
    "            else:\n",
    "                answer = 3\n",
    "\n",
    "        elif subtype == 1: #위치가 중앙보다 왼쪽인지?\n",
    "            \"\"\"query horizontal position->yes/no\"\"\"\n",
    "            \"\"\" 두 물체의 중심을 이은 선 근처에 물체가 존재하는가?\"\"\"\n",
    "            if objects[color][1][0] < img_size / 2:\n",
    "                answer = 0\n",
    "            else:\n",
    "                answer = 1\n",
    "\n",
    "        elif subtype == 2: #위치가 중앙보다 위쪽인지?\n",
    "            \"\"\"query vertical position->yes/no\"\"\"\n",
    "            if objects[color][1][1] < img_size / 2:\n",
    "                answer = 0\n",
    "            else:\n",
    "                answer = 1\n",
    "        norel_answers.append(answer)\n",
    "    \n",
    "    \"\"\"Binary Relational questions\"\"\"\n",
    "    for _ in range(nb_questions):\n",
    "        question = np.zeros((question_size))\n",
    "        color = random.randint(0,5)\n",
    "        question[color] = 1\n",
    "        question[q_type_idx+1] = 1\n",
    "        subtype = random.randint(0,2)\n",
    "        question[subtype+sub_q_type_idx] = 1\n",
    "        binary_questions.append(question)\n",
    "\n",
    "        if subtype == 0:\n",
    "            \"\"\"closest-to->rectangle/circle\"\"\" \n",
    "            \"\"\"가장 가까운 것이 네모냐 원이냐?\"\"\"\n",
    "            \n",
    "            my_obj = objects[color][1] # color = random.randint(0,5)\n",
    "            dist_list = [((my_obj - obj[1]) ** 2).sum() for obj in objects]\n",
    "            \n",
    "            # https://github.com/kimhc6028/relational-networks/pull/21/commits/8464436122f80227e35b07804747b3e7d164ad25\n",
    "            dist_list[dist_list.index(0)] = 99999 # 자기 자신 제외\n",
    "            \n",
    "            closest = dist_list.index(min(dist_list))\n",
    "            if objects[closest][2] == 'r':\n",
    "                answer = 2\n",
    "            else:\n",
    "                answer = 3\n",
    "                \n",
    "        elif subtype == 1:\n",
    "            \"\"\"furthest-from->rectangle/circle\"\"\"\n",
    "            \"\"\"가장 먼 것이 네모냐 원이냐?\"\"\" \n",
    "            \"\"\" “What is the shape of the object that is farthest from the gray object?”\"\"\"\n",
    "            my_obj = objects[color][1]\n",
    "            dist_list = [((my_obj - obj[1]) ** 2).sum() for obj in objects]\n",
    "            furthest = dist_list.index(max(dist_list))\n",
    "            if objects[furthest][2] == 'r':\n",
    "                answer = 2\n",
    "            else:\n",
    "                answer = 3\n",
    "\n",
    "        elif subtype == 2:\n",
    "            \"\"\"count->1~6\"\"\" \n",
    "            \"\"\"“How many objects have the same shape as the green object?”\"\"\"\n",
    "            my_obj = objects[color][2]\n",
    "            count = -1\n",
    "            for obj in objects:\n",
    "                if obj[2] == my_obj: # shape 이 같은지?\n",
    "                    count +=1 \n",
    "            answer = count+4\n",
    "            # https://github.com/kimhc6028/relational-networks/issues/29\n",
    "            # Answer : [yes, no, rectangle, circle, r, g, b, o, k, y]\n",
    "        binary_answers.append(answer)\n",
    "\n",
    "    \"\"\"Ternary Relational questions\"\"\"\n",
    "    for _ in range(nb_questions):\n",
    "        question = np.zeros((question_size))\n",
    "        rnd_colors = np.random.permutation(np.arange(5))\n",
    "        # 1st object\n",
    "        color1 = rnd_colors[0]\n",
    "        question[color1] = 1\n",
    "        # 2nd object\n",
    "        color2 = rnd_colors[1]\n",
    "        question[6 + color2] = 1\n",
    "\n",
    "        question[q_type_idx + 2] = 1\n",
    "        \n",
    "        if args.t_subtype >= 0 and args.t_subtype < 3:\n",
    "            subtype = args.t_subtype\n",
    "        else:\n",
    "            subtype = random.randint(0, 2)\n",
    "\n",
    "        question[subtype+sub_q_type_idx] = 1 # Ternary-relation \n",
    "        ternary_questions.append(question)\n",
    "\n",
    "        # get coordiantes of object from question\n",
    "        A = objects[color1][1]\n",
    "        B = objects[color2][1]\n",
    "\n",
    "        if subtype == 0:\n",
    "            \"\"\"between->1~4\"\"\"\n",
    "            \n",
    "            between_count = 0 \n",
    "            # check is any objects lies inside the box\n",
    "            # A와 B 사이에 몇개의 물체가 들어있는지? \n",
    "            for other_obj in objects:\n",
    "                # skip object A and B (A와 B를 제외한 다른 물체 pick)\n",
    "                if (other_obj[0] == color1) or (other_obj[0] == color2):\n",
    "                    continue\n",
    "\n",
    "                # Get x and y coordinate of third object\n",
    "                other_objx = other_obj[1][0]\n",
    "                other_objy = other_obj[1][1]\n",
    "\n",
    "                if (A[0] <= other_objx <= B[0] and A[1] <= other_objy <= B[1]) or \\\n",
    "                   (A[0] <= other_objx <= B[0] and B[1] <= other_objy <= A[1]) or \\\n",
    "                   (B[0] <= other_objx <= A[0] and B[1] <= other_objy <= A[1]) or \\\n",
    "                   (B[0] <= other_objx <= A[0] and A[1] <= other_objy <= B[1]):\n",
    "                    between_count += 1\n",
    "\n",
    "            answer = between_count + 4\n",
    "            \n",
    "        elif subtype == 1:\n",
    "            \"\"\"is-on-band->yes/no\"\"\"\n",
    "            \n",
    "            grace_threshold = 12  # half of the size of objects\n",
    "            epsilon = 1e-10  \n",
    "            m = (B[1]-A[1])/((B[0]-A[0]) + epsilon ) # add epsilon to prevent dividing by zero\n",
    "            c = A[1] - (m*A[0])\n",
    "\n",
    "            answer = 1  # default answer is 'no'\n",
    "\n",
    "            # check if any object lies on/close the line between object A and object B\n",
    "            for other_obj in objects:\n",
    "                # skip object A and B\n",
    "                if (other_obj[0] == color1) or (other_obj[0] == color2):\n",
    "                    continue\n",
    "\n",
    "                other_obj_pos = other_obj[1]\n",
    "                \n",
    "                # y = mx + c\n",
    "                y = (m*other_obj_pos[0]) + c\n",
    "                if (y - grace_threshold)  <= other_obj_pos[1] <= (y + grace_threshold):\n",
    "                    answer = 0\n",
    "                    \n",
    "        elif subtype == 2:\n",
    "            \"\"\"count-obtuse-triangles->1~6\"\"\"\n",
    "\n",
    "            obtuse_count = 0\n",
    "\n",
    "            # disable warnings\n",
    "            # the angle computation may fail if the points are on a line\n",
    "            warnings.filterwarnings(\"ignore\")\n",
    "            for other_obj in objects:\n",
    "                # skip object A and B\n",
    "                if (other_obj[0] == color1) or (other_obj[0] == color2):\n",
    "                    continue\n",
    "\n",
    "                # get position of 3rd object\n",
    "                C = other_obj[1]\n",
    "                # edge length\n",
    "                a = np.linalg.norm(B - C)\n",
    "                b = np.linalg.norm(C - A)\n",
    "                c = np.linalg.norm(A - B)\n",
    "                # angles by law of cosine\n",
    "                alpha = np.rad2deg(np.arccos((b ** 2 + c ** 2 - a ** 2) / (2 * b * c)))\n",
    "                beta = np.rad2deg(np.arccos((a ** 2 + c ** 2 - b ** 2) / (2 * a * c)))\n",
    "                gamma = np.rad2deg(np.arccos((a ** 2 + b ** 2 - c ** 2) / (2 * a * b)))\n",
    "                max_angle = max(alpha, beta, gamma)\n",
    "                if max_angle >= 90 and max_angle < 180:\n",
    "                    obtuse_count += 1\n",
    "\n",
    "            warnings.filterwarnings(\"default\")\n",
    "            answer = obtuse_count + 4\n",
    "\n",
    "        ternary_answers.append(answer)\n",
    "\n",
    "    ternary_relations = (ternary_questions, ternary_answers)\n",
    "    binary_relations = (binary_questions, binary_answers)\n",
    "    norelations = (norel_questions, norel_answers)\n",
    "    \n",
    "    img = img/255.\n",
    "    dataset = (img, ternary_relations, binary_relations, norelations)\n",
    "    return dataset\n"
   ]
  },
  {
   "cell_type": "code",
   "execution_count": 19,
   "metadata": {},
   "outputs": [
    {
     "name": "stdout",
     "output_type": "stream",
     "text": [
      "building test datasets....20\n",
      "building train datasets...980\n"
     ]
    }
   ],
   "source": [
    "print('building test datasets....{}'.format(test_size))\n",
    "test_datasets = [build_dataset() for _ in range(test_size)]\n",
    "\n",
    "print('building train datasets...{}'.format(train_size))\n",
    "train_datasets = [build_dataset() for _ in range(train_size)]"
   ]
  },
  {
   "cell_type": "code",
   "execution_count": 20,
   "metadata": {},
   "outputs": [
    {
     "name": "stdout",
     "output_type": "stream",
     "text": [
      "(20, 4)\n",
      "(980, 4)\n"
     ]
    },
    {
     "name": "stderr",
     "output_type": "stream",
     "text": [
      "/usr/local/lib/python3.8/dist-packages/ipykernel/ipkernel.py:281: DeprecationWarning: `should_run_async` will not call `transform_cell` automatically in the future. Please pass the result to `transformed_cell` argument and any exception that happen during thetransform in `preprocessing_exc_tuple` in IPython 7.17 and above.\n",
      "  and should_run_async(code)\n",
      "/usr/local/lib/python3.8/dist-packages/numpy/core/_asarray.py:83: VisibleDeprecationWarning: Creating an ndarray from ragged nested sequences (which is a list-or-tuple of lists-or-tuples-or ndarrays with different lengths or shapes) is deprecated. If you meant to do this, you must specify 'dtype=object' when creating the ndarray\n",
      "  return array(a, dtype, copy=False, order=order)\n"
     ]
    }
   ],
   "source": [
    "print(np.shape(test_datasets))\n",
    "print(np.shape(train_datasets))"
   ]
  },
  {
   "cell_type": "code",
   "execution_count": 21,
   "metadata": {},
   "outputs": [
    {
     "name": "stdout",
     "output_type": "stream",
     "text": [
      "saving datasets...\n",
      "datasets saved at ./data/sort-of-clevr.pickle\n"
     ]
    }
   ],
   "source": [
    "print('saving datasets...')\n",
    "filename = os.path.join(dirs,'sort-of-clevr.pickle')\n",
    "with  open(filename, 'wb') as f:\n",
    "    pickle.dump((train_datasets, test_datasets), f)\n",
    "print('datasets saved at {}'.format(filename))"
   ]
  },
  {
   "cell_type": "markdown",
   "metadata": {},
   "source": [
    "### References"
   ]
  },
  {
   "cell_type": "markdown",
   "metadata": {},
   "source": [
    "* Relational Networks https://github.com/kimhc6028/relational-networks/blob/master/sort_of_clevr_generator.py"
   ]
  }
 ],
 "metadata": {
  "kernelspec": {
   "display_name": "Python 3",
   "language": "python",
   "name": "python3"
  },
  "language_info": {
   "codemirror_mode": {
    "name": "ipython",
    "version": 3
   },
   "file_extension": ".py",
   "mimetype": "text/x-python",
   "name": "python",
   "nbconvert_exporter": "python",
   "pygments_lexer": "ipython3",
   "version": "3.8.10"
  }
 },
 "nbformat": 4,
 "nbformat_minor": 2
}
